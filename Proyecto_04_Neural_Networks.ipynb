{
 "cells": [
  {
   "cell_type": "markdown",
   "metadata": {},
   "source": [
    "# Proyecto 04 - Redes Neuronales"
   ]
  },
  {
   "cell_type": "markdown",
   "metadata": {},
   "source": [
    "## - Objetivo"
   ]
  },
  {
   "cell_type": "markdown",
   "metadata": {},
   "source": [
    "Para este proyecto, como **desafío** se intentarán mejorar los resultados del modelo de <i>Machine Learning</i> empleado en el Proyecto 3, en su versión binaria, medinate el uso de Redes Neuronales."
   ]
  },
  {
   "cell_type": "markdown",
   "metadata": {},
   "source": [
    "## - Preliminares"
   ]
  },
  {
   "cell_type": "markdown",
   "metadata": {},
   "source": [
    "Importemos las librerías que requeriremos para este proyecto."
   ]
  },
  {
   "cell_type": "code",
   "execution_count": 1,
   "metadata": {
    "ExecuteTime": {
     "end_time": "2020-11-07T18:01:16.593377Z",
     "start_time": "2020-11-07T18:01:11.199065Z"
    }
   },
   "outputs": [
    {
     "name": "stderr",
     "output_type": "stream",
     "text": [
      "Using TensorFlow backend.\n"
     ]
    }
   ],
   "source": [
    "import numpy as np\n",
    "\n",
    "import pandas as pd\n",
    "\n",
    "import matplotlib.pyplot as plt\n",
    "\n",
    "import seaborn as sns\n",
    "sns.set()\n",
    "\n",
    "import warnings\n",
    "warnings.filterwarnings(\"ignore\")\n",
    "\n",
    "import spacy\n",
    "\n",
    "import es_core_news_lg\n",
    "\n",
    "from spacy.lang.es.stop_words import STOP_WORDS\n",
    "from spacy.lang.es import Spanish\n",
    "\n",
    "from spacy.lemmatizer import Lemmatizer\n",
    "\n",
    "import string\n",
    "\n",
    "from spacy.lookups import Lookups\n",
    "\n",
    "from sklearn.feature_extraction.text import TfidfVectorizer\n",
    "\n",
    "from sklearn.metrics import confusion_matrix\n",
    "from sklearn.metrics import accuracy_score\n",
    "\n",
    "from sklearn.preprocessing import MinMaxScaler\n",
    "\n",
    "from sklearn.model_selection import GridSearchCV\n",
    "\n",
    "from sklearn.svm import LinearSVC\n",
    "\n",
    "import keras as keras\n",
    "\n",
    "from keras import models\n",
    "from keras import layers\n",
    "from keras import optimizers\n",
    "from keras import losses\n",
    "from keras import metrics\n",
    "\n",
    "from keras.regularizers import l2\n",
    "\n",
    "from keras.layers import Dropout\n",
    "\n",
    "from keras.models import Sequential\n",
    "from keras.models import load_model\n",
    "\n",
    "from plot_keras_history import plot_history\n",
    "\n",
    "import tensorflow as tf\n",
    "\n",
    "from keras.callbacks import ModelCheckpoint\n",
    "from tensorflow.keras.callbacks import EarlyStopping\n",
    "\n",
    "from keras.optimizers import Adam\n",
    "from keras.optimizers import SGD\n",
    "\n",
    "import gc\n",
    "\n",
    "from numpy.random import seed"
   ]
  },
  {
   "cell_type": "markdown",
   "metadata": {},
   "source": [
    "Ahora, importemos como <i>DataFrames</i> los <i>datasets</i> que utilizaremos y, para darnos una idea de cómo son, imprimamos sus primeros cinco registros."
   ]
  },
  {
   "cell_type": "code",
   "execution_count": 2,
   "metadata": {
    "ExecuteTime": {
     "end_time": "2020-11-07T18:01:17.823288Z",
     "start_time": "2020-11-07T18:01:16.595280Z"
    }
   },
   "outputs": [
    {
     "data": {
      "text/html": [
       "<div>\n",
       "<style scoped>\n",
       "    .dataframe tbody tr th:only-of-type {\n",
       "        vertical-align: middle;\n",
       "    }\n",
       "\n",
       "    .dataframe tbody tr th {\n",
       "        vertical-align: top;\n",
       "    }\n",
       "\n",
       "    .dataframe thead th {\n",
       "        text-align: right;\n",
       "    }\n",
       "</style>\n",
       "<table border=\"1\" class=\"dataframe\">\n",
       "  <thead>\n",
       "    <tr style=\"text-align: right;\">\n",
       "      <th></th>\n",
       "      <th>review_id</th>\n",
       "      <th>product_id</th>\n",
       "      <th>reviewer_id</th>\n",
       "      <th>stars</th>\n",
       "      <th>review_body</th>\n",
       "      <th>review_title</th>\n",
       "      <th>language</th>\n",
       "      <th>product_category</th>\n",
       "    </tr>\n",
       "  </thead>\n",
       "  <tbody>\n",
       "    <tr>\n",
       "      <th>0</th>\n",
       "      <td>es_0491108</td>\n",
       "      <td>product_es_0296024</td>\n",
       "      <td>reviewer_es_0999081</td>\n",
       "      <td>1</td>\n",
       "      <td>Nada bueno se me fue ka pantalla en menos de 8...</td>\n",
       "      <td>television Nevir</td>\n",
       "      <td>es</td>\n",
       "      <td>electronics</td>\n",
       "    </tr>\n",
       "    <tr>\n",
       "      <th>1</th>\n",
       "      <td>es_0869872</td>\n",
       "      <td>product_es_0922286</td>\n",
       "      <td>reviewer_es_0216771</td>\n",
       "      <td>1</td>\n",
       "      <td>Horrible, nos tuvimos que comprar otro porque ...</td>\n",
       "      <td>Dinero tirado a la basura con esta compra</td>\n",
       "      <td>es</td>\n",
       "      <td>electronics</td>\n",
       "    </tr>\n",
       "    <tr>\n",
       "      <th>2</th>\n",
       "      <td>es_0811721</td>\n",
       "      <td>product_es_0474543</td>\n",
       "      <td>reviewer_es_0929213</td>\n",
       "      <td>1</td>\n",
       "      <td>Te obligan a comprar dos unidades y te llega s...</td>\n",
       "      <td>solo llega una unidad cuando te obligan a comp...</td>\n",
       "      <td>es</td>\n",
       "      <td>drugstore</td>\n",
       "    </tr>\n",
       "    <tr>\n",
       "      <th>3</th>\n",
       "      <td>es_0359921</td>\n",
       "      <td>product_es_0656090</td>\n",
       "      <td>reviewer_es_0224702</td>\n",
       "      <td>1</td>\n",
       "      <td>No entro en descalificar al vendedor, solo pue...</td>\n",
       "      <td>PRODUCTO NO RECIBIDO.</td>\n",
       "      <td>es</td>\n",
       "      <td>wireless</td>\n",
       "    </tr>\n",
       "    <tr>\n",
       "      <th>4</th>\n",
       "      <td>es_0068940</td>\n",
       "      <td>product_es_0662544</td>\n",
       "      <td>reviewer_es_0224827</td>\n",
       "      <td>1</td>\n",
       "      <td>Llega tarde y co la talla equivocada</td>\n",
       "      <td>Devuelto</td>\n",
       "      <td>es</td>\n",
       "      <td>shoes</td>\n",
       "    </tr>\n",
       "  </tbody>\n",
       "</table>\n",
       "</div>"
      ],
      "text/plain": [
       "    review_id          product_id          reviewer_id  stars  \\\n",
       "0  es_0491108  product_es_0296024  reviewer_es_0999081      1   \n",
       "1  es_0869872  product_es_0922286  reviewer_es_0216771      1   \n",
       "2  es_0811721  product_es_0474543  reviewer_es_0929213      1   \n",
       "3  es_0359921  product_es_0656090  reviewer_es_0224702      1   \n",
       "4  es_0068940  product_es_0662544  reviewer_es_0224827      1   \n",
       "\n",
       "                                         review_body  \\\n",
       "0  Nada bueno se me fue ka pantalla en menos de 8...   \n",
       "1  Horrible, nos tuvimos que comprar otro porque ...   \n",
       "2  Te obligan a comprar dos unidades y te llega s...   \n",
       "3  No entro en descalificar al vendedor, solo pue...   \n",
       "4               Llega tarde y co la talla equivocada   \n",
       "\n",
       "                                        review_title language product_category  \n",
       "0                                   television Nevir       es      electronics  \n",
       "1          Dinero tirado a la basura con esta compra       es      electronics  \n",
       "2  solo llega una unidad cuando te obligan a comp...       es        drugstore  \n",
       "3                              PRODUCTO NO RECIBIDO.       es         wireless  \n",
       "4                                           Devuelto       es            shoes  "
      ]
     },
     "execution_count": 2,
     "metadata": {},
     "output_type": "execute_result"
    }
   ],
   "source": [
    "dataset_train = pd.read_json('dataset_es_train.json', lines = True)\n",
    "dataset_train.head()"
   ]
  },
  {
   "cell_type": "code",
   "execution_count": 3,
   "metadata": {
    "ExecuteTime": {
     "end_time": "2020-11-07T18:01:17.865880Z",
     "start_time": "2020-11-07T18:01:17.825691Z"
    }
   },
   "outputs": [
    {
     "data": {
      "text/html": [
       "<div>\n",
       "<style scoped>\n",
       "    .dataframe tbody tr th:only-of-type {\n",
       "        vertical-align: middle;\n",
       "    }\n",
       "\n",
       "    .dataframe tbody tr th {\n",
       "        vertical-align: top;\n",
       "    }\n",
       "\n",
       "    .dataframe thead th {\n",
       "        text-align: right;\n",
       "    }\n",
       "</style>\n",
       "<table border=\"1\" class=\"dataframe\">\n",
       "  <thead>\n",
       "    <tr style=\"text-align: right;\">\n",
       "      <th></th>\n",
       "      <th>review_id</th>\n",
       "      <th>product_id</th>\n",
       "      <th>reviewer_id</th>\n",
       "      <th>stars</th>\n",
       "      <th>review_body</th>\n",
       "      <th>review_title</th>\n",
       "      <th>language</th>\n",
       "      <th>product_category</th>\n",
       "    </tr>\n",
       "  </thead>\n",
       "  <tbody>\n",
       "    <tr>\n",
       "      <th>0</th>\n",
       "      <td>es_0417480</td>\n",
       "      <td>product_es_0873923</td>\n",
       "      <td>reviewer_es_0672978</td>\n",
       "      <td>1</td>\n",
       "      <td>Malisimo, muy grande demasiado aparatoso y mal...</td>\n",
       "      <td>Mala compra</td>\n",
       "      <td>es</td>\n",
       "      <td>wireless</td>\n",
       "    </tr>\n",
       "    <tr>\n",
       "      <th>1</th>\n",
       "      <td>es_0180432</td>\n",
       "      <td>product_es_0713146</td>\n",
       "      <td>reviewer_es_0100858</td>\n",
       "      <td>1</td>\n",
       "      <td>No he recibido el pedido no la devolución</td>\n",
       "      <td>No lo he recibido</td>\n",
       "      <td>es</td>\n",
       "      <td>apparel</td>\n",
       "    </tr>\n",
       "    <tr>\n",
       "      <th>2</th>\n",
       "      <td>es_0144850</td>\n",
       "      <td>product_es_0356874</td>\n",
       "      <td>reviewer_es_0486447</td>\n",
       "      <td>1</td>\n",
       "      <td>Tengo que buscar otro sistema, este no funcion...</td>\n",
       "      <td>Que no aprieta bien en el manillar</td>\n",
       "      <td>es</td>\n",
       "      <td>sports</td>\n",
       "    </tr>\n",
       "    <tr>\n",
       "      <th>3</th>\n",
       "      <td>es_0339629</td>\n",
       "      <td>product_es_0939832</td>\n",
       "      <td>reviewer_es_0894703</td>\n",
       "      <td>1</td>\n",
       "      <td>Utilicé las brocas de menor diámetro y se me d...</td>\n",
       "      <td>Brocas de mantequilla</td>\n",
       "      <td>es</td>\n",
       "      <td>home_improvement</td>\n",
       "    </tr>\n",
       "    <tr>\n",
       "      <th>4</th>\n",
       "      <td>es_0858362</td>\n",
       "      <td>product_es_0489066</td>\n",
       "      <td>reviewer_es_0887663</td>\n",
       "      <td>1</td>\n",
       "      <td>No me gusta su olor a viejo y aspecto malo</td>\n",
       "      <td>No me gusta</td>\n",
       "      <td>es</td>\n",
       "      <td>beauty</td>\n",
       "    </tr>\n",
       "  </tbody>\n",
       "</table>\n",
       "</div>"
      ],
      "text/plain": [
       "    review_id          product_id          reviewer_id  stars  \\\n",
       "0  es_0417480  product_es_0873923  reviewer_es_0672978      1   \n",
       "1  es_0180432  product_es_0713146  reviewer_es_0100858      1   \n",
       "2  es_0144850  product_es_0356874  reviewer_es_0486447      1   \n",
       "3  es_0339629  product_es_0939832  reviewer_es_0894703      1   \n",
       "4  es_0858362  product_es_0489066  reviewer_es_0887663      1   \n",
       "\n",
       "                                         review_body  \\\n",
       "0  Malisimo, muy grande demasiado aparatoso y mal...   \n",
       "1          No he recibido el pedido no la devolución   \n",
       "2  Tengo que buscar otro sistema, este no funcion...   \n",
       "3  Utilicé las brocas de menor diámetro y se me d...   \n",
       "4         No me gusta su olor a viejo y aspecto malo   \n",
       "\n",
       "                         review_title language  product_category  \n",
       "0                         Mala compra       es          wireless  \n",
       "1                   No lo he recibido       es           apparel  \n",
       "2  Que no aprieta bien en el manillar       es            sports  \n",
       "3               Brocas de mantequilla       es  home_improvement  \n",
       "4                         No me gusta       es            beauty  "
      ]
     },
     "execution_count": 3,
     "metadata": {},
     "output_type": "execute_result"
    }
   ],
   "source": [
    "dataset_dev = pd.read_json('dataset_es_dev.json', lines = True)\n",
    "dataset_dev.head()"
   ]
  },
  {
   "cell_type": "code",
   "execution_count": 4,
   "metadata": {
    "ExecuteTime": {
     "end_time": "2020-11-07T18:01:17.909993Z",
     "start_time": "2020-11-07T18:01:17.867821Z"
    }
   },
   "outputs": [
    {
     "data": {
      "text/html": [
       "<div>\n",
       "<style scoped>\n",
       "    .dataframe tbody tr th:only-of-type {\n",
       "        vertical-align: middle;\n",
       "    }\n",
       "\n",
       "    .dataframe tbody tr th {\n",
       "        vertical-align: top;\n",
       "    }\n",
       "\n",
       "    .dataframe thead th {\n",
       "        text-align: right;\n",
       "    }\n",
       "</style>\n",
       "<table border=\"1\" class=\"dataframe\">\n",
       "  <thead>\n",
       "    <tr style=\"text-align: right;\">\n",
       "      <th></th>\n",
       "      <th>review_id</th>\n",
       "      <th>product_id</th>\n",
       "      <th>reviewer_id</th>\n",
       "      <th>stars</th>\n",
       "      <th>review_body</th>\n",
       "      <th>review_title</th>\n",
       "      <th>language</th>\n",
       "      <th>product_category</th>\n",
       "    </tr>\n",
       "  </thead>\n",
       "  <tbody>\n",
       "    <tr>\n",
       "      <th>0</th>\n",
       "      <td>es_0038754</td>\n",
       "      <td>product_es_0113523</td>\n",
       "      <td>reviewer_es_0580071</td>\n",
       "      <td>1</td>\n",
       "      <td>no me llego el articulo me lo mando por correo...</td>\n",
       "      <td>no me llego</td>\n",
       "      <td>es</td>\n",
       "      <td>wireless</td>\n",
       "    </tr>\n",
       "    <tr>\n",
       "      <th>1</th>\n",
       "      <td>es_0748979</td>\n",
       "      <td>product_es_0017036</td>\n",
       "      <td>reviewer_es_0819733</td>\n",
       "      <td>1</td>\n",
       "      <td>la mensajería horrible, no compro mas</td>\n",
       "      <td>amazon sigue sin cumplir en las entregas</td>\n",
       "      <td>es</td>\n",
       "      <td>home</td>\n",
       "    </tr>\n",
       "    <tr>\n",
       "      <th>2</th>\n",
       "      <td>es_0411746</td>\n",
       "      <td>product_es_0138642</td>\n",
       "      <td>reviewer_es_0508607</td>\n",
       "      <td>1</td>\n",
       "      <td>Estoy muy decepcionado con el vendedor ya que ...</td>\n",
       "      <td>ESTAFA EN EL ENVÍO</td>\n",
       "      <td>es</td>\n",
       "      <td>toy</td>\n",
       "    </tr>\n",
       "    <tr>\n",
       "      <th>3</th>\n",
       "      <td>es_0786686</td>\n",
       "      <td>product_es_0170887</td>\n",
       "      <td>reviewer_es_0491157</td>\n",
       "      <td>1</td>\n",
       "      <td>Mi valoración no es sobre el producto sino sob...</td>\n",
       "      <td>Estafa de Amazon</td>\n",
       "      <td>es</td>\n",
       "      <td>home</td>\n",
       "    </tr>\n",
       "    <tr>\n",
       "      <th>4</th>\n",
       "      <td>es_0429700</td>\n",
       "      <td>product_es_0710642</td>\n",
       "      <td>reviewer_es_0008745</td>\n",
       "      <td>1</td>\n",
       "      <td>Pues tenía interés en este libro y probé la ve...</td>\n",
       "      <td>No conseguí pasar de la portada en Kindle</td>\n",
       "      <td>es</td>\n",
       "      <td>digital_ebook_purchase</td>\n",
       "    </tr>\n",
       "  </tbody>\n",
       "</table>\n",
       "</div>"
      ],
      "text/plain": [
       "    review_id          product_id          reviewer_id  stars  \\\n",
       "0  es_0038754  product_es_0113523  reviewer_es_0580071      1   \n",
       "1  es_0748979  product_es_0017036  reviewer_es_0819733      1   \n",
       "2  es_0411746  product_es_0138642  reviewer_es_0508607      1   \n",
       "3  es_0786686  product_es_0170887  reviewer_es_0491157      1   \n",
       "4  es_0429700  product_es_0710642  reviewer_es_0008745      1   \n",
       "\n",
       "                                         review_body  \\\n",
       "0  no me llego el articulo me lo mando por correo...   \n",
       "1              la mensajería horrible, no compro mas   \n",
       "2  Estoy muy decepcionado con el vendedor ya que ...   \n",
       "3  Mi valoración no es sobre el producto sino sob...   \n",
       "4  Pues tenía interés en este libro y probé la ve...   \n",
       "\n",
       "                                review_title language        product_category  \n",
       "0                                no me llego       es                wireless  \n",
       "1   amazon sigue sin cumplir en las entregas       es                    home  \n",
       "2                         ESTAFA EN EL ENVÍO       es                     toy  \n",
       "3                           Estafa de Amazon       es                    home  \n",
       "4  No conseguí pasar de la portada en Kindle       es  digital_ebook_purchase  "
      ]
     },
     "execution_count": 4,
     "metadata": {},
     "output_type": "execute_result"
    }
   ],
   "source": [
    "dataset_test = pd.read_json('dataset_es_test.json', lines = True)\n",
    "dataset_test.head()"
   ]
  },
  {
   "cell_type": "markdown",
   "metadata": {},
   "source": [
    "Dado que en el Proyecto anterior, que se puede consultar [aquí](https://github.com/Pozzo740/Acamica_Projects), se hizo el Análisis Exploratorio de Datos para estos <i>datasets</i> omitiremos este análisis en su mayoría, realizando de nuevo únicamente aquello que será relevante para este proyecto."
   ]
  },
  {
   "cell_type": "markdown",
   "metadata": {},
   "source": [
    "De los <i>DataFrames</i> anteriores hay variables que no utilizaremos. Las eliminaremos a fin de trabajar con datos más limpios.\n",
    "\n",
    "Por otro lado, en el proyecto anterior vimos que juntar en una sola a las variables `review_body` y `review_title` es con la que nuestro modelo, tanto en el caso multi clase como en el binario, predice mejor nuestra variable objetivo. Así es que nueveamente las juntaremos, llamándola `review_body_title` y posteriormente eliminiaremos también las dos variables que la originaron pues no las necesitaremos más.\n",
    "\n",
    "Finalmente, dado que es la versión binaria la que trabajaremos, crearemos la que será nuestra variable objetivo, `sentiment`, la cual tomará valores como sigue: todos los valores de `review_body_title` que tengan 1, 2 ó 3 estrellas tendrán asignado el valor <i><b>negative</b></i> en `sentiment` y el resto, es decir, los valores de `review_body_title` que tengan 4 ó 5 estrellas tendrán asignado el valor <i><b>positive</b></i>.\n",
    "\n",
    "Hagamos estos cambios e imprimamos en pantalla los primeros cinco registros para visualizar cómo serán nuestros nuevos <i>DataFrames</i>."
   ]
  },
  {
   "cell_type": "code",
   "execution_count": 5,
   "metadata": {
    "ExecuteTime": {
     "end_time": "2020-11-07T18:01:18.081586Z",
     "start_time": "2020-11-07T18:01:17.911668Z"
    }
   },
   "outputs": [
    {
     "data": {
      "text/html": [
       "<div>\n",
       "<style scoped>\n",
       "    .dataframe tbody tr th:only-of-type {\n",
       "        vertical-align: middle;\n",
       "    }\n",
       "\n",
       "    .dataframe tbody tr th {\n",
       "        vertical-align: top;\n",
       "    }\n",
       "\n",
       "    .dataframe thead th {\n",
       "        text-align: right;\n",
       "    }\n",
       "</style>\n",
       "<table border=\"1\" class=\"dataframe\">\n",
       "  <thead>\n",
       "    <tr style=\"text-align: right;\">\n",
       "      <th></th>\n",
       "      <th>stars</th>\n",
       "      <th>review_body_title</th>\n",
       "      <th>sentiment</th>\n",
       "    </tr>\n",
       "  </thead>\n",
       "  <tbody>\n",
       "    <tr>\n",
       "      <th>0</th>\n",
       "      <td>1</td>\n",
       "      <td>Nada bueno se me fue ka pantalla en menos de 8...</td>\n",
       "      <td>negative</td>\n",
       "    </tr>\n",
       "    <tr>\n",
       "      <th>1</th>\n",
       "      <td>1</td>\n",
       "      <td>Horrible, nos tuvimos que comprar otro porque ...</td>\n",
       "      <td>negative</td>\n",
       "    </tr>\n",
       "    <tr>\n",
       "      <th>2</th>\n",
       "      <td>1</td>\n",
       "      <td>Te obligan a comprar dos unidades y te llega s...</td>\n",
       "      <td>negative</td>\n",
       "    </tr>\n",
       "    <tr>\n",
       "      <th>3</th>\n",
       "      <td>1</td>\n",
       "      <td>No entro en descalificar al vendedor, solo pue...</td>\n",
       "      <td>negative</td>\n",
       "    </tr>\n",
       "    <tr>\n",
       "      <th>4</th>\n",
       "      <td>1</td>\n",
       "      <td>Llega tarde y co la talla equivocada Devuelto</td>\n",
       "      <td>negative</td>\n",
       "    </tr>\n",
       "  </tbody>\n",
       "</table>\n",
       "</div>"
      ],
      "text/plain": [
       "   stars                                  review_body_title sentiment\n",
       "0      1  Nada bueno se me fue ka pantalla en menos de 8...  negative\n",
       "1      1  Horrible, nos tuvimos que comprar otro porque ...  negative\n",
       "2      1  Te obligan a comprar dos unidades y te llega s...  negative\n",
       "3      1  No entro en descalificar al vendedor, solo pue...  negative\n",
       "4      1      Llega tarde y co la talla equivocada Devuelto  negative"
      ]
     },
     "execution_count": 5,
     "metadata": {},
     "output_type": "execute_result"
    }
   ],
   "source": [
    "df_train = dataset_train.drop(['review_id', 'product_id', 'reviewer_id', 'language',\n",
    "                               'product_category'], axis = 1)\n",
    "df_train_comb = df_train.copy()\n",
    "df_train_comb['review_body_title'] = df_train_comb['review_body'] + ' ' + df_train_comb['review_title']\n",
    "del df_train_comb['review_body']\n",
    "del df_train_comb['review_title']\n",
    "df_train_comb['sentiment'] = df_train_comb.stars.apply(lambda x: 'negative' if x in [1, 2, 3] else 'positive')\n",
    "df_train_comb.head()"
   ]
  },
  {
   "cell_type": "code",
   "execution_count": 6,
   "metadata": {
    "ExecuteTime": {
     "end_time": "2020-11-07T18:01:18.096585Z",
     "start_time": "2020-11-07T18:01:18.083033Z"
    }
   },
   "outputs": [
    {
     "data": {
      "text/html": [
       "<div>\n",
       "<style scoped>\n",
       "    .dataframe tbody tr th:only-of-type {\n",
       "        vertical-align: middle;\n",
       "    }\n",
       "\n",
       "    .dataframe tbody tr th {\n",
       "        vertical-align: top;\n",
       "    }\n",
       "\n",
       "    .dataframe thead th {\n",
       "        text-align: right;\n",
       "    }\n",
       "</style>\n",
       "<table border=\"1\" class=\"dataframe\">\n",
       "  <thead>\n",
       "    <tr style=\"text-align: right;\">\n",
       "      <th></th>\n",
       "      <th>stars</th>\n",
       "      <th>review_body_title</th>\n",
       "      <th>sentiment</th>\n",
       "    </tr>\n",
       "  </thead>\n",
       "  <tbody>\n",
       "    <tr>\n",
       "      <th>0</th>\n",
       "      <td>1</td>\n",
       "      <td>Malisimo, muy grande demasiado aparatoso y mal...</td>\n",
       "      <td>negative</td>\n",
       "    </tr>\n",
       "    <tr>\n",
       "      <th>1</th>\n",
       "      <td>1</td>\n",
       "      <td>No he recibido el pedido no la devolución No l...</td>\n",
       "      <td>negative</td>\n",
       "    </tr>\n",
       "    <tr>\n",
       "      <th>2</th>\n",
       "      <td>1</td>\n",
       "      <td>Tengo que buscar otro sistema, este no funcion...</td>\n",
       "      <td>negative</td>\n",
       "    </tr>\n",
       "    <tr>\n",
       "      <th>3</th>\n",
       "      <td>1</td>\n",
       "      <td>Utilicé las brocas de menor diámetro y se me d...</td>\n",
       "      <td>negative</td>\n",
       "    </tr>\n",
       "    <tr>\n",
       "      <th>4</th>\n",
       "      <td>1</td>\n",
       "      <td>No me gusta su olor a viejo y aspecto malo No ...</td>\n",
       "      <td>negative</td>\n",
       "    </tr>\n",
       "  </tbody>\n",
       "</table>\n",
       "</div>"
      ],
      "text/plain": [
       "   stars                                  review_body_title sentiment\n",
       "0      1  Malisimo, muy grande demasiado aparatoso y mal...  negative\n",
       "1      1  No he recibido el pedido no la devolución No l...  negative\n",
       "2      1  Tengo que buscar otro sistema, este no funcion...  negative\n",
       "3      1  Utilicé las brocas de menor diámetro y se me d...  negative\n",
       "4      1  No me gusta su olor a viejo y aspecto malo No ...  negative"
      ]
     },
     "execution_count": 6,
     "metadata": {},
     "output_type": "execute_result"
    }
   ],
   "source": [
    "df_dev = dataset_dev.drop(['review_id', 'product_id', 'reviewer_id', 'language',\n",
    "                               'product_category'], axis = 1)\n",
    "df_dev_comb = df_dev.copy()\n",
    "df_dev_comb['review_body_title'] = df_dev_comb['review_body'] + ' ' + df_dev_comb['review_title']\n",
    "del df_dev_comb['review_body']\n",
    "del df_dev_comb['review_title']\n",
    "df_dev_comb['sentiment'] = df_dev_comb.stars.apply(lambda x: 'negative' if x in [1, 2, 3] else 'positive')\n",
    "df_dev_comb.head()"
   ]
  },
  {
   "cell_type": "code",
   "execution_count": 7,
   "metadata": {
    "ExecuteTime": {
     "end_time": "2020-11-07T18:01:18.112253Z",
     "start_time": "2020-11-07T18:01:18.098112Z"
    }
   },
   "outputs": [
    {
     "data": {
      "text/html": [
       "<div>\n",
       "<style scoped>\n",
       "    .dataframe tbody tr th:only-of-type {\n",
       "        vertical-align: middle;\n",
       "    }\n",
       "\n",
       "    .dataframe tbody tr th {\n",
       "        vertical-align: top;\n",
       "    }\n",
       "\n",
       "    .dataframe thead th {\n",
       "        text-align: right;\n",
       "    }\n",
       "</style>\n",
       "<table border=\"1\" class=\"dataframe\">\n",
       "  <thead>\n",
       "    <tr style=\"text-align: right;\">\n",
       "      <th></th>\n",
       "      <th>stars</th>\n",
       "      <th>review_body_title</th>\n",
       "      <th>sentiment</th>\n",
       "    </tr>\n",
       "  </thead>\n",
       "  <tbody>\n",
       "    <tr>\n",
       "      <th>0</th>\n",
       "      <td>1</td>\n",
       "      <td>no me llego el articulo me lo mando por correo...</td>\n",
       "      <td>negative</td>\n",
       "    </tr>\n",
       "    <tr>\n",
       "      <th>1</th>\n",
       "      <td>1</td>\n",
       "      <td>la mensajería horrible, no compro mas amazon s...</td>\n",
       "      <td>negative</td>\n",
       "    </tr>\n",
       "    <tr>\n",
       "      <th>2</th>\n",
       "      <td>1</td>\n",
       "      <td>Estoy muy decepcionado con el vendedor ya que ...</td>\n",
       "      <td>negative</td>\n",
       "    </tr>\n",
       "    <tr>\n",
       "      <th>3</th>\n",
       "      <td>1</td>\n",
       "      <td>Mi valoración no es sobre el producto sino sob...</td>\n",
       "      <td>negative</td>\n",
       "    </tr>\n",
       "    <tr>\n",
       "      <th>4</th>\n",
       "      <td>1</td>\n",
       "      <td>Pues tenía interés en este libro y probé la ve...</td>\n",
       "      <td>negative</td>\n",
       "    </tr>\n",
       "  </tbody>\n",
       "</table>\n",
       "</div>"
      ],
      "text/plain": [
       "   stars                                  review_body_title sentiment\n",
       "0      1  no me llego el articulo me lo mando por correo...  negative\n",
       "1      1  la mensajería horrible, no compro mas amazon s...  negative\n",
       "2      1  Estoy muy decepcionado con el vendedor ya que ...  negative\n",
       "3      1  Mi valoración no es sobre el producto sino sob...  negative\n",
       "4      1  Pues tenía interés en este libro y probé la ve...  negative"
      ]
     },
     "execution_count": 7,
     "metadata": {},
     "output_type": "execute_result"
    }
   ],
   "source": [
    "df_test = dataset_test.drop(['review_id', 'product_id', 'reviewer_id', 'language',\n",
    "                               'product_category'], axis = 1)\n",
    "df_test_comb = df_test.copy()\n",
    "df_test_comb['review_body_title'] = df_test_comb['review_body'] + ' ' + df_test_comb['review_title']\n",
    "del df_test_comb['review_body']\n",
    "del df_test_comb['review_title']\n",
    "df_test_comb['sentiment'] = df_test_comb.stars.apply(lambda x: 'negative' if x in [1, 2, 3] else 'positive')\n",
    "df_test_comb.head()"
   ]
  },
  {
   "cell_type": "markdown",
   "metadata": {},
   "source": [
    "A continuación, instanciaremos nuestro modelo de `spaCy`."
   ]
  },
  {
   "cell_type": "code",
   "execution_count": 8,
   "metadata": {
    "ExecuteTime": {
     "end_time": "2020-11-07T18:01:20.704829Z",
     "start_time": "2020-11-07T18:01:18.115329Z"
    }
   },
   "outputs": [],
   "source": [
    "nlp = es_core_news_lg.load()"
   ]
  },
  {
   "cell_type": "markdown",
   "metadata": {},
   "source": [
    "Ahora, definimos la siguiente función para normalizar los valores de nuestra variable `review_body_title` y la aplicamos para los tres <i>DataFrames</i>."
   ]
  },
  {
   "cell_type": "code",
   "execution_count": 9,
   "metadata": {
    "ExecuteTime": {
     "end_time": "2020-11-07T18:01:20.714848Z",
     "start_time": "2020-11-07T18:01:20.707338Z"
    }
   },
   "outputs": [],
   "source": [
    "def normalize(comment, lowercase, remove_stopwords):\n",
    "    punctuations = string.punctuation\n",
    "    stops = spacy.lang.es.stop_words.STOP_WORDS\n",
    "    non_stops = ['no', 'sí', 'si', 'bueno', 'buenos', 'buena', 'buenas', 'buen', 'mal',\n",
    "                 'nada', 'nunca', 'siempre', 'mejor', 'demasiado', 'peor', 'muy', 'más',\n",
    "                 'mas', 'bien', 'bastante', 'estado', 'mucho', 'muchos']\n",
    "    otros = ['a', 'e', 'o', 'u', 'q', 'y', 'para', 'pare', 'paro', 'como', '..', '...',\n",
    "             '....', '.....', '......', '.......', '........', '.........', '¡', '¿']\n",
    "    letters = list(string.ascii_lowercase) + ['á', 'é', 'í', 'ó', 'ú', 'ü', 'ch', 'ñ']\n",
    "    list_2 = []\n",
    "    \n",
    "    if lowercase:\n",
    "        comment = comment.lower()\n",
    "    comment = nlp(comment)\n",
    "    lemmatized = list()\n",
    "    for word in comment:\n",
    "        if word.text not in non_stops:\n",
    "            if not remove_stopwords or (remove_stopwords and word.text not in stops):\n",
    "                if word.text not in punctuations:\n",
    "                    if word.text not in otros:\n",
    "                        lemma = word.lemma_.strip()\n",
    "                        lemmatized.append(lemma)\n",
    "        elif word.text in non_stops:\n",
    "            lemma = word.lemma_.strip()\n",
    "            lemmatized.append(lemma)\n",
    "    for token in lemmatized:\n",
    "        for ch in token:\n",
    "            if ch not in letters:\n",
    "                list_2.append(token)\n",
    "    for w in list_2:\n",
    "        if w in lemmatized:\n",
    "            lemmatized.remove(w)                \n",
    "    return \" \".join(lemmatized)"
   ]
  },
  {
   "cell_type": "code",
   "execution_count": 10,
   "metadata": {
    "ExecuteTime": {
     "end_time": "2020-11-07T18:22:08.449759Z",
     "start_time": "2020-11-07T18:01:20.716265Z"
    }
   },
   "outputs": [],
   "source": [
    "df_train_comb['review_body_title'] = df_train_comb['review_body_title'].apply(normalize, lowercase = True, remove_stopwords = True)\n",
    "df_dev_comb['review_body_title'] = df_dev_comb['review_body_title'].apply(normalize, lowercase = True, remove_stopwords = True)\n",
    "df_test_comb['review_body_title'] = df_test_comb['review_body_title'].apply(normalize, lowercase = True, remove_stopwords = True)"
   ]
  },
  {
   "cell_type": "markdown",
   "metadata": {},
   "source": [
    "Miremos cómo quedó nuestra variable objetivo ya normalizada."
   ]
  },
  {
   "cell_type": "code",
   "execution_count": 11,
   "metadata": {
    "ExecuteTime": {
     "end_time": "2020-11-07T18:22:08.457764Z",
     "start_time": "2020-11-07T18:22:08.451136Z"
    }
   },
   "outputs": [
    {
     "data": {
      "text/html": [
       "<div>\n",
       "<style scoped>\n",
       "    .dataframe tbody tr th:only-of-type {\n",
       "        vertical-align: middle;\n",
       "    }\n",
       "\n",
       "    .dataframe tbody tr th {\n",
       "        vertical-align: top;\n",
       "    }\n",
       "\n",
       "    .dataframe thead th {\n",
       "        text-align: right;\n",
       "    }\n",
       "</style>\n",
       "<table border=\"1\" class=\"dataframe\">\n",
       "  <thead>\n",
       "    <tr style=\"text-align: right;\">\n",
       "      <th></th>\n",
       "      <th>stars</th>\n",
       "      <th>review_body_title</th>\n",
       "      <th>sentiment</th>\n",
       "    </tr>\n",
       "  </thead>\n",
       "  <tbody>\n",
       "    <tr>\n",
       "      <th>199995</th>\n",
       "      <td>5</td>\n",
       "      <td>mandar funcionar perfectamente cumplir funcion...</td>\n",
       "      <td>positive</td>\n",
       "    </tr>\n",
       "    <tr>\n",
       "      <th>199996</th>\n",
       "      <td>5</td>\n",
       "      <td>comprar batería reticencia resultar muy fácil ...</td>\n",
       "      <td>positive</td>\n",
       "    </tr>\n",
       "    <tr>\n",
       "      <th>199997</th>\n",
       "      <td>5</td>\n",
       "      <td>bueno calidad satisfacer comprar bueno calidad</td>\n",
       "      <td>positive</td>\n",
       "    </tr>\n",
       "    <tr>\n",
       "      <th>199998</th>\n",
       "      <td>5</td>\n",
       "      <td>perfecto cumplir hijo recomendar</td>\n",
       "      <td>positive</td>\n",
       "    </tr>\n",
       "    <tr>\n",
       "      <th>199999</th>\n",
       "      <td>5</td>\n",
       "      <td>súper bien brocha bueno no caer pelitos pesar ...</td>\n",
       "      <td>positive</td>\n",
       "    </tr>\n",
       "  </tbody>\n",
       "</table>\n",
       "</div>"
      ],
      "text/plain": [
       "        stars                                  review_body_title sentiment\n",
       "199995      5  mandar funcionar perfectamente cumplir funcion...  positive\n",
       "199996      5  comprar batería reticencia resultar muy fácil ...  positive\n",
       "199997      5     bueno calidad satisfacer comprar bueno calidad  positive\n",
       "199998      5                   perfecto cumplir hijo recomendar  positive\n",
       "199999      5  súper bien brocha bueno no caer pelitos pesar ...  positive"
      ]
     },
     "execution_count": 11,
     "metadata": {},
     "output_type": "execute_result"
    }
   ],
   "source": [
    "df_train_comb.tail()"
   ]
  },
  {
   "cell_type": "code",
   "execution_count": 12,
   "metadata": {
    "ExecuteTime": {
     "end_time": "2020-11-07T18:22:08.465336Z",
     "start_time": "2020-11-07T18:22:08.459673Z"
    }
   },
   "outputs": [
    {
     "data": {
      "text/html": [
       "<div>\n",
       "<style scoped>\n",
       "    .dataframe tbody tr th:only-of-type {\n",
       "        vertical-align: middle;\n",
       "    }\n",
       "\n",
       "    .dataframe tbody tr th {\n",
       "        vertical-align: top;\n",
       "    }\n",
       "\n",
       "    .dataframe thead th {\n",
       "        text-align: right;\n",
       "    }\n",
       "</style>\n",
       "<table border=\"1\" class=\"dataframe\">\n",
       "  <thead>\n",
       "    <tr style=\"text-align: right;\">\n",
       "      <th></th>\n",
       "      <th>stars</th>\n",
       "      <th>review_body_title</th>\n",
       "      <th>sentiment</th>\n",
       "    </tr>\n",
       "  </thead>\n",
       "  <tbody>\n",
       "    <tr>\n",
       "      <th>4995</th>\n",
       "      <td>5</td>\n",
       "      <td>encantar cesta llegar tamaño muy util no pesar...</td>\n",
       "      <td>positive</td>\n",
       "    </tr>\n",
       "    <tr>\n",
       "      <th>4996</th>\n",
       "      <td>5</td>\n",
       "      <td>desempeñar función correctamente calidad preciar</td>\n",
       "      <td>positive</td>\n",
       "    </tr>\n",
       "    <tr>\n",
       "      <th>4997</th>\n",
       "      <td>5</td>\n",
       "      <td>encantar diadema flor venir imagen no venir ap...</td>\n",
       "      <td>positive</td>\n",
       "    </tr>\n",
       "    <tr>\n",
       "      <th>4998</th>\n",
       "      <td>5</td>\n",
       "      <td>gustar mucho fundir tpu fundir normalmente fin...</td>\n",
       "      <td>positive</td>\n",
       "    </tr>\n",
       "    <tr>\n",
       "      <th>4999</th>\n",
       "      <td>5</td>\n",
       "      <td>artículo cumplir expectativa desear bueno calidad</td>\n",
       "      <td>positive</td>\n",
       "    </tr>\n",
       "  </tbody>\n",
       "</table>\n",
       "</div>"
      ],
      "text/plain": [
       "      stars                                  review_body_title sentiment\n",
       "4995      5  encantar cesta llegar tamaño muy util no pesar...  positive\n",
       "4996      5   desempeñar función correctamente calidad preciar  positive\n",
       "4997      5  encantar diadema flor venir imagen no venir ap...  positive\n",
       "4998      5  gustar mucho fundir tpu fundir normalmente fin...  positive\n",
       "4999      5  artículo cumplir expectativa desear bueno calidad  positive"
      ]
     },
     "execution_count": 12,
     "metadata": {},
     "output_type": "execute_result"
    }
   ],
   "source": [
    "df_dev_comb.tail()"
   ]
  },
  {
   "cell_type": "code",
   "execution_count": 13,
   "metadata": {
    "ExecuteTime": {
     "end_time": "2020-11-07T18:22:08.472998Z",
     "start_time": "2020-11-07T18:22:08.466793Z"
    }
   },
   "outputs": [
    {
     "data": {
      "text/html": [
       "<div>\n",
       "<style scoped>\n",
       "    .dataframe tbody tr th:only-of-type {\n",
       "        vertical-align: middle;\n",
       "    }\n",
       "\n",
       "    .dataframe tbody tr th {\n",
       "        vertical-align: top;\n",
       "    }\n",
       "\n",
       "    .dataframe thead th {\n",
       "        text-align: right;\n",
       "    }\n",
       "</style>\n",
       "<table border=\"1\" class=\"dataframe\">\n",
       "  <thead>\n",
       "    <tr style=\"text-align: right;\">\n",
       "      <th></th>\n",
       "      <th>stars</th>\n",
       "      <th>review_body_title</th>\n",
       "      <th>sentiment</th>\n",
       "    </tr>\n",
       "  </thead>\n",
       "  <tbody>\n",
       "    <tr>\n",
       "      <th>4995</th>\n",
       "      <td>5</td>\n",
       "      <td>costar perfecto cumplir función sobrar pecar c...</td>\n",
       "      <td>positive</td>\n",
       "    </tr>\n",
       "    <tr>\n",
       "      <th>4996</th>\n",
       "      <td>5</td>\n",
       "      <td>material muy flexible cómodo acorde descripció...</td>\n",
       "      <td>positive</td>\n",
       "    </tr>\n",
       "    <tr>\n",
       "      <th>4997</th>\n",
       "      <td>5</td>\n",
       "      <td>ver bien grabar medalla bonito grabar</td>\n",
       "      <td>positive</td>\n",
       "    </tr>\n",
       "    <tr>\n",
       "      <th>4998</th>\n",
       "      <td>5</td>\n",
       "      <td>comprar bici finalmente quedar xiaomi scooter ...</td>\n",
       "      <td>positive</td>\n",
       "    </tr>\n",
       "    <tr>\n",
       "      <th>4999</th>\n",
       "      <td>5</td>\n",
       "      <td>tipo casco si inalambricos no atar goma tipica...</td>\n",
       "      <td>positive</td>\n",
       "    </tr>\n",
       "  </tbody>\n",
       "</table>\n",
       "</div>"
      ],
      "text/plain": [
       "      stars                                  review_body_title sentiment\n",
       "4995      5  costar perfecto cumplir función sobrar pecar c...  positive\n",
       "4996      5  material muy flexible cómodo acorde descripció...  positive\n",
       "4997      5              ver bien grabar medalla bonito grabar  positive\n",
       "4998      5  comprar bici finalmente quedar xiaomi scooter ...  positive\n",
       "4999      5  tipo casco si inalambricos no atar goma tipica...  positive"
      ]
     },
     "execution_count": 13,
     "metadata": {},
     "output_type": "execute_result"
    }
   ],
   "source": [
    "df_test_comb.tail()"
   ]
  },
  {
   "cell_type": "code",
   "execution_count": 14,
   "metadata": {
    "ExecuteTime": {
     "end_time": "2020-11-07T18:22:08.556734Z",
     "start_time": "2020-11-07T18:22:08.474610Z"
    }
   },
   "outputs": [
    {
     "data": {
      "text/plain": [
       "120"
      ]
     },
     "execution_count": 14,
     "metadata": {},
     "output_type": "execute_result"
    }
   ],
   "source": [
    "gc.collect()"
   ]
  },
  {
   "cell_type": "markdown",
   "metadata": {},
   "source": [
    "Veamos ahora si tenemos valores faltantes y cómo está balanceada nuestra variable objetivo en cada uno de los *datasets*."
   ]
  },
  {
   "cell_type": "code",
   "execution_count": 15,
   "metadata": {
    "ExecuteTime": {
     "end_time": "2020-11-07T18:22:08.584620Z",
     "start_time": "2020-11-07T18:22:08.558690Z"
    }
   },
   "outputs": [
    {
     "data": {
      "text/plain": [
       "stars                0\n",
       "review_body_title    0\n",
       "sentiment            0\n",
       "dtype: int64"
      ]
     },
     "execution_count": 15,
     "metadata": {},
     "output_type": "execute_result"
    }
   ],
   "source": [
    "df_train_comb.isna().sum()"
   ]
  },
  {
   "cell_type": "code",
   "execution_count": 16,
   "metadata": {
    "ExecuteTime": {
     "end_time": "2020-11-07T18:22:08.718577Z",
     "start_time": "2020-11-07T18:22:08.586159Z"
    }
   },
   "outputs": [
    {
     "data": {
      "image/png": "[encoded data removed]",
      "text/plain": [
       "<Figure size 432x288 with 1 Axes>"
      ]
     },
     "metadata": {},
     "output_type": "display_data"
    }
   ],
   "source": [
    "sns.countplot(df_train_comb.sentiment)\n",
    "plt.show()"
   ]
  },
  {
   "cell_type": "code",
   "execution_count": 17,
   "metadata": {
    "ExecuteTime": {
     "end_time": "2020-11-07T18:22:08.726441Z",
     "start_time": "2020-11-07T18:22:08.721532Z"
    }
   },
   "outputs": [
    {
     "data": {
      "text/plain": [
       "stars                0\n",
       "review_body_title    0\n",
       "sentiment            0\n",
       "dtype: int64"
      ]
     },
     "execution_count": 17,
     "metadata": {},
     "output_type": "execute_result"
    }
   ],
   "source": [
    "df_dev_comb.isna().sum()"
   ]
  },
  {
   "cell_type": "code",
   "execution_count": 18,
   "metadata": {
    "ExecuteTime": {
     "end_time": "2020-11-07T18:22:08.816597Z",
     "start_time": "2020-11-07T18:22:08.727879Z"
    }
   },
   "outputs": [
    {
     "data": {
      "image/png": "[encoded data removed]",
      "text/plain": [
       "<Figure size 432x288 with 1 Axes>"
      ]
     },
     "metadata": {},
     "output_type": "display_data"
    }
   ],
   "source": [
    "sns.countplot(df_dev_comb.sentiment)\n",
    "plt.show()"
   ]
  },
  {
   "cell_type": "code",
   "execution_count": 19,
   "metadata": {
    "ExecuteTime": {
     "end_time": "2020-11-07T18:22:08.823628Z",
     "start_time": "2020-11-07T18:22:08.818144Z"
    }
   },
   "outputs": [
    {
     "data": {
      "text/plain": [
       "stars                0\n",
       "review_body_title    0\n",
       "sentiment            0\n",
       "dtype: int64"
      ]
     },
     "execution_count": 19,
     "metadata": {},
     "output_type": "execute_result"
    }
   ],
   "source": [
    "df_test_comb.isna().sum()"
   ]
  },
  {
   "cell_type": "code",
   "execution_count": 20,
   "metadata": {
    "ExecuteTime": {
     "end_time": "2020-11-07T18:22:08.913576Z",
     "start_time": "2020-11-07T18:22:08.824934Z"
    }
   },
   "outputs": [
    {
     "data": {
      "image/png": "[encoded data removed]",
      "text/plain": [
       "<Figure size 432x288 with 1 Axes>"
      ]
     },
     "metadata": {},
     "output_type": "display_data"
    }
   ],
   "source": [
    "sns.countplot(df_test_comb.sentiment)\n",
    "plt.show()"
   ]
  },
  {
   "cell_type": "markdown",
   "metadata": {},
   "source": [
    "En los tres *datasets* tenemos una relación de sentimientos positivos/negativos de 60/40. Esta proporción todavía puede considerarse balanceada por lo que el *accuracy* sigue siendo una buena métrica."
   ]
  },
  {
   "cell_type": "markdown",
   "metadata": {},
   "source": [
    "## - Modelos de <i>Machine Learning</i>"
   ]
  },
  {
   "cell_type": "markdown",
   "metadata": {},
   "source": [
    "Para esta parte, comenzamos definiendo el que será nuestro modelo <i>benchmark</i> el cual será el que mejores resultados nos dio en el proyecto anterior, esto es, `LinearSVC`."
   ]
  },
  {
   "cell_type": "markdown",
   "metadata": {},
   "source": [
    "### - Modelo <i>benchmark</i>"
   ]
  },
  {
   "cell_type": "markdown",
   "metadata": {},
   "source": [
    "En el proyecto anterior, encontramos que el mejor número de <i>features</i> para el modelo `LinearSVC` en la versión binaria fue de cinco mil. Así, esa es la cantidad que usaremos para él en este caso también.\n",
    "\n",
    "Ejecutaremos un `GridSearchCV` para encontrar los mejores hiperparámetros para nuestro modelo y, con ellos, correremos nuestro modelo sobre el <i>dataset test</i>."
   ]
  },
  {
   "cell_type": "code",
   "execution_count": 21,
   "metadata": {
    "ExecuteTime": {
     "end_time": "2020-11-07T19:25:15.467059Z",
     "start_time": "2020-11-07T18:22:08.915150Z"
    }
   },
   "outputs": [
    {
     "name": "stdout",
     "output_type": "stream",
     "text": [
      "The best parameters are: {'C': 0.1, 'fit_intercept': True, 'loss': 'squared_hinge', 'penalty': 'l2', 'tol': 0.001} \n",
      "\n",
      "The best accuracy is: 0.852885\n"
     ]
    }
   ],
   "source": [
    "list_review_body_title_train = list(df_train_comb['review_body_title'].values)\n",
    "\n",
    "vectorizer = TfidfVectorizer(ngram_range = (1, 2), max_features = 5000)\n",
    "vect_review_body_title_train = vectorizer.fit_transform(list_review_body_title_train)\n",
    "X_train = vect_review_body_title_train.toarray()\n",
    "y_train = df_train_comb['sentiment'].values\n",
    "\n",
    "svc = LinearSVC(dual = False, random_state = 42)\n",
    "\n",
    "param_grid = {'penalty': ['l1', 'l2'], 'loss': ['hinge', 'squared_hinge'],\n",
    "              'tol': [1e-3, 1e-2, 1e-1], 'C': [1e-2, 1e-1, 1],\n",
    "              'fit_intercept': [False, True]}\n",
    "\n",
    "svc_gs = GridSearchCV(estimator = svc, param_grid = param_grid, scoring = 'accuracy', cv = 5)\n",
    "\n",
    "svc_gs.fit(X_train, y_train)\n",
    "\n",
    "print('The best parameters are:', svc_gs.best_params_, '\\n')\n",
    "print('The best accuracy is:', svc_gs.best_score_)"
   ]
  },
  {
   "cell_type": "code",
   "execution_count": 22,
   "metadata": {
    "ExecuteTime": {
     "end_time": "2020-11-07T19:25:32.056674Z",
     "start_time": "2020-11-07T19:25:15.482303Z"
    }
   },
   "outputs": [
    {
     "name": "stdout",
     "output_type": "stream",
     "text": [
      "Train accuracy: 0.88053\n",
      "Test accuracy: 0.8754\n"
     ]
    }
   ],
   "source": [
    "svc = LinearSVC(dual = False, penalty = svc_gs.best_params_['penalty'],\n",
    "                loss = svc_gs.best_params_['loss'], tol = svc_gs.best_params_['tol'],\n",
    "                C = svc_gs.best_params_['C'],\n",
    "                fit_intercept = svc_gs.best_params_['fit_intercept'], random_state = 42)\n",
    "\n",
    "list_review_body_title_train = list(df_train_comb['review_body_title'].values)\n",
    "list_review_body_title_test = list(df_test_comb['review_body_title'].values)\n",
    "\n",
    "vectorizer = TfidfVectorizer(ngram_range = (1, 2), max_features = 5000)\n",
    "vect_review_body_title_train = vectorizer.fit_transform(list_review_body_title_train)\n",
    "X_train = vect_review_body_title_train.toarray()\n",
    "y_train = df_train_comb['sentiment'].values\n",
    "\n",
    "svc.fit(X_train, y_train)\n",
    "\n",
    "vect_review_body_title_test = vectorizer.transform(list_review_body_title_test)\n",
    "X_test = vect_review_body_title_test.toarray()\n",
    "y_test = df_test_comb['sentiment'].values\n",
    "\n",
    "y_train_pred = svc.predict(X_train)\n",
    "y_test_pred = svc.predict(X_test)\n",
    "\n",
    "print('Train accuracy:', accuracy_score(y_train, y_train_pred))\n",
    "print('Test accuracy:', accuracy_score(y_test, y_test_pred))"
   ]
  },
  {
   "cell_type": "markdown",
   "metadata": {},
   "source": [
    "Definimos la siguiente función para evaluar matrices de confusión."
   ]
  },
  {
   "cell_type": "code",
   "execution_count": 23,
   "metadata": {
    "ExecuteTime": {
     "end_time": "2020-11-07T19:25:32.074062Z",
     "start_time": "2020-11-07T19:25:32.067893Z"
    }
   },
   "outputs": [],
   "source": [
    "def confusion(ytest, y_pred):\n",
    "    names = ['Negative', 'Positive']\n",
    "    cm = confusion_matrix(ytest, y_pred)\n",
    "    f, ax = plt.subplots(figsize = (5, 5))\n",
    "    sns.heatmap(cm, annot = True, linewidth = .5, linecolor = \"r\", fmt = \".0f\", ax = ax)\n",
    "    plt.xlabel(\"y_pred\")\n",
    "    plt.ylabel(\"y_true\")\n",
    "    ax.set_xticklabels(names, rotation = 45)\n",
    "    ax.set_yticklabels(names, rotation = 45)\n",
    "    plt.show()\n",
    "\n",
    "    return"
   ]
  },
  {
   "cell_type": "markdown",
   "metadata": {},
   "source": [
    "Y ahora, miramos la matriz de confusión para nuestro modelo."
   ]
  },
  {
   "cell_type": "code",
   "execution_count": 24,
   "metadata": {
    "ExecuteTime": {
     "end_time": "2020-11-07T19:25:32.286422Z",
     "start_time": "2020-11-07T19:25:32.077665Z"
    }
   },
   "outputs": [
    {
     "data": {
      "image/png": "[encoded data removed]",
      "text/plain": [
       "<Figure size 360x360 with 2 Axes>"
      ]
     },
     "metadata": {},
     "output_type": "display_data"
    }
   ],
   "source": [
    "confusion(y_test, y_test_pred)"
   ]
  },
  {
   "cell_type": "markdown",
   "metadata": {},
   "source": [
    "## - Concluisones"
   ]
  },
  {
   "cell_type": "markdown",
   "metadata": {},
   "source": [
    "El modelo *benchmark* tiene un buen *accuracy* en general; sin embargo, el *accuracy* por etiqueta está desbalanceado: es de 82.55% para la etiqueta <b>*postitive*</b> y de 90.87% para la etiqueta <b>*negative*</b>."
   ]
  },
  {
   "cell_type": "code",
   "execution_count": 25,
   "metadata": {
    "ExecuteTime": {
     "end_time": "2020-11-07T19:25:32.807084Z",
     "start_time": "2020-11-07T19:25:32.288838Z"
    }
   },
   "outputs": [
    {
     "data": {
      "text/plain": [
       "9825"
      ]
     },
     "execution_count": 25,
     "metadata": {},
     "output_type": "execute_result"
    }
   ],
   "source": [
    "gc.collect()"
   ]
  },
  {
   "cell_type": "markdown",
   "metadata": {},
   "source": [
    "## - <i>Neural Network</i>"
   ]
  },
  {
   "cell_type": "markdown",
   "metadata": {},
   "source": [
    "Habiendo definido ya el <i>benchmark</i> pasemos ahora a nuestro modelo de redes neuronales."
   ]
  },
  {
   "cell_type": "markdown",
   "metadata": {},
   "source": [
    "Para que nuestro modelo de redes neuronales funcione, necesitamos aplicar *One-Hot Encoding* en nuestra variable `sentiment`."
   ]
  },
  {
   "cell_type": "code",
   "execution_count": 26,
   "metadata": {
    "ExecuteTime": {
     "end_time": "2020-11-07T19:25:32.845054Z",
     "start_time": "2020-11-07T19:25:32.809132Z"
    }
   },
   "outputs": [
    {
     "data": {
      "text/html": [
       "<div>\n",
       "<style scoped>\n",
       "    .dataframe tbody tr th:only-of-type {\n",
       "        vertical-align: middle;\n",
       "    }\n",
       "\n",
       "    .dataframe tbody tr th {\n",
       "        vertical-align: top;\n",
       "    }\n",
       "\n",
       "    .dataframe thead th {\n",
       "        text-align: right;\n",
       "    }\n",
       "</style>\n",
       "<table border=\"1\" class=\"dataframe\">\n",
       "  <thead>\n",
       "    <tr style=\"text-align: right;\">\n",
       "      <th></th>\n",
       "      <th>stars</th>\n",
       "      <th>review_body_title</th>\n",
       "      <th>sentiment</th>\n",
       "      <th>negative</th>\n",
       "      <th>positive</th>\n",
       "    </tr>\n",
       "  </thead>\n",
       "  <tbody>\n",
       "    <tr>\n",
       "      <th>0</th>\n",
       "      <td>1</td>\n",
       "      <td>nadar bueno ka pantalla mesar no recibir respu...</td>\n",
       "      <td>negative</td>\n",
       "      <td>1</td>\n",
       "      <td>0</td>\n",
       "    </tr>\n",
       "    <tr>\n",
       "      <th>1</th>\n",
       "      <td>1</td>\n",
       "      <td>horrible tener comprar inglés informático hora...</td>\n",
       "      <td>negative</td>\n",
       "      <td>1</td>\n",
       "      <td>0</td>\n",
       "    </tr>\n",
       "    <tr>\n",
       "      <th>2</th>\n",
       "      <td>1</td>\n",
       "      <td>obligar comprar unidad llegar no formar reclam...</td>\n",
       "      <td>negative</td>\n",
       "      <td>1</td>\n",
       "      <td>0</td>\n",
       "    </tr>\n",
       "    <tr>\n",
       "      <th>3</th>\n",
       "      <td>1</td>\n",
       "      <td>no entrar descalificar vendedor mesar esperar ...</td>\n",
       "      <td>negative</td>\n",
       "      <td>1</td>\n",
       "      <td>0</td>\n",
       "    </tr>\n",
       "    <tr>\n",
       "      <th>4</th>\n",
       "      <td>1</td>\n",
       "      <td>llegar co tallar equivocar devolver</td>\n",
       "      <td>negative</td>\n",
       "      <td>1</td>\n",
       "      <td>0</td>\n",
       "    </tr>\n",
       "    <tr>\n",
       "      <th>...</th>\n",
       "      <td>...</td>\n",
       "      <td>...</td>\n",
       "      <td>...</td>\n",
       "      <td>...</td>\n",
       "      <td>...</td>\n",
       "    </tr>\n",
       "    <tr>\n",
       "      <th>199995</th>\n",
       "      <td>5</td>\n",
       "      <td>mandar funcionar perfectamente cumplir funcion...</td>\n",
       "      <td>positive</td>\n",
       "      <td>0</td>\n",
       "      <td>1</td>\n",
       "    </tr>\n",
       "    <tr>\n",
       "      <th>199996</th>\n",
       "      <td>5</td>\n",
       "      <td>comprar batería reticencia resultar muy fácil ...</td>\n",
       "      <td>positive</td>\n",
       "      <td>0</td>\n",
       "      <td>1</td>\n",
       "    </tr>\n",
       "    <tr>\n",
       "      <th>199997</th>\n",
       "      <td>5</td>\n",
       "      <td>bueno calidad satisfacer comprar bueno calidad</td>\n",
       "      <td>positive</td>\n",
       "      <td>0</td>\n",
       "      <td>1</td>\n",
       "    </tr>\n",
       "    <tr>\n",
       "      <th>199998</th>\n",
       "      <td>5</td>\n",
       "      <td>perfecto cumplir hijo recomendar</td>\n",
       "      <td>positive</td>\n",
       "      <td>0</td>\n",
       "      <td>1</td>\n",
       "    </tr>\n",
       "    <tr>\n",
       "      <th>199999</th>\n",
       "      <td>5</td>\n",
       "      <td>súper bien brocha bueno no caer pelitos pesar ...</td>\n",
       "      <td>positive</td>\n",
       "      <td>0</td>\n",
       "      <td>1</td>\n",
       "    </tr>\n",
       "  </tbody>\n",
       "</table>\n",
       "<p>200000 rows × 5 columns</p>\n",
       "</div>"
      ],
      "text/plain": [
       "        stars                                  review_body_title sentiment  \\\n",
       "0           1  nadar bueno ka pantalla mesar no recibir respu...  negative   \n",
       "1           1  horrible tener comprar inglés informático hora...  negative   \n",
       "2           1  obligar comprar unidad llegar no formar reclam...  negative   \n",
       "3           1  no entrar descalificar vendedor mesar esperar ...  negative   \n",
       "4           1                llegar co tallar equivocar devolver  negative   \n",
       "...       ...                                                ...       ...   \n",
       "199995      5  mandar funcionar perfectamente cumplir funcion...  positive   \n",
       "199996      5  comprar batería reticencia resultar muy fácil ...  positive   \n",
       "199997      5     bueno calidad satisfacer comprar bueno calidad  positive   \n",
       "199998      5                   perfecto cumplir hijo recomendar  positive   \n",
       "199999      5  súper bien brocha bueno no caer pelitos pesar ...  positive   \n",
       "\n",
       "        negative  positive  \n",
       "0              1         0  \n",
       "1              1         0  \n",
       "2              1         0  \n",
       "3              1         0  \n",
       "4              1         0  \n",
       "...          ...       ...  \n",
       "199995         0         1  \n",
       "199996         0         1  \n",
       "199997         0         1  \n",
       "199998         0         1  \n",
       "199999         0         1  \n",
       "\n",
       "[200000 rows x 5 columns]"
      ]
     },
     "execution_count": 26,
     "metadata": {},
     "output_type": "execute_result"
    }
   ],
   "source": [
    "one_hot_train = pd.get_dummies(df_train_comb['sentiment'])\n",
    "df_train_comb = df_train_comb.join(one_hot_train)\n",
    "df_train_comb"
   ]
  },
  {
   "cell_type": "code",
   "execution_count": 27,
   "metadata": {
    "ExecuteTime": {
     "end_time": "2020-11-07T19:25:32.862289Z",
     "start_time": "2020-11-07T19:25:32.847054Z"
    }
   },
   "outputs": [
    {
     "data": {
      "text/html": [
       "<div>\n",
       "<style scoped>\n",
       "    .dataframe tbody tr th:only-of-type {\n",
       "        vertical-align: middle;\n",
       "    }\n",
       "\n",
       "    .dataframe tbody tr th {\n",
       "        vertical-align: top;\n",
       "    }\n",
       "\n",
       "    .dataframe thead th {\n",
       "        text-align: right;\n",
       "    }\n",
       "</style>\n",
       "<table border=\"1\" class=\"dataframe\">\n",
       "  <thead>\n",
       "    <tr style=\"text-align: right;\">\n",
       "      <th></th>\n",
       "      <th>stars</th>\n",
       "      <th>review_body_title</th>\n",
       "      <th>sentiment</th>\n",
       "      <th>negative</th>\n",
       "      <th>positive</th>\n",
       "    </tr>\n",
       "  </thead>\n",
       "  <tbody>\n",
       "    <tr>\n",
       "      <th>0</th>\n",
       "      <td>1</td>\n",
       "      <td>malisimo muy grande demasiar aparatoso mal pro...</td>\n",
       "      <td>negative</td>\n",
       "      <td>1</td>\n",
       "      <td>0</td>\n",
       "    </tr>\n",
       "    <tr>\n",
       "      <th>1</th>\n",
       "      <td>1</td>\n",
       "      <td>no recibir pedir no devolución no recibir</td>\n",
       "      <td>negative</td>\n",
       "      <td>1</td>\n",
       "      <td>0</td>\n",
       "    </tr>\n",
       "    <tr>\n",
       "      <th>2</th>\n",
       "      <td>1</td>\n",
       "      <td>buscar sistema no funcionar muy bien abrazader...</td>\n",
       "      <td>negative</td>\n",
       "      <td>1</td>\n",
       "      <td>0</td>\n",
       "    </tr>\n",
       "    <tr>\n",
       "      <th>3</th>\n",
       "      <td>1</td>\n",
       "      <td>utilizar broca menor diámetro doblar si ser ma...</td>\n",
       "      <td>negative</td>\n",
       "      <td>1</td>\n",
       "      <td>0</td>\n",
       "    </tr>\n",
       "    <tr>\n",
       "      <th>4</th>\n",
       "      <td>1</td>\n",
       "      <td>no gustar olor viejo aspecto malo no gustar</td>\n",
       "      <td>negative</td>\n",
       "      <td>1</td>\n",
       "      <td>0</td>\n",
       "    </tr>\n",
       "    <tr>\n",
       "      <th>...</th>\n",
       "      <td>...</td>\n",
       "      <td>...</td>\n",
       "      <td>...</td>\n",
       "      <td>...</td>\n",
       "      <td>...</td>\n",
       "    </tr>\n",
       "    <tr>\n",
       "      <th>4995</th>\n",
       "      <td>5</td>\n",
       "      <td>encantar cesta llegar tamaño muy util no pesar...</td>\n",
       "      <td>positive</td>\n",
       "      <td>0</td>\n",
       "      <td>1</td>\n",
       "    </tr>\n",
       "    <tr>\n",
       "      <th>4996</th>\n",
       "      <td>5</td>\n",
       "      <td>desempeñar función correctamente calidad preciar</td>\n",
       "      <td>positive</td>\n",
       "      <td>0</td>\n",
       "      <td>1</td>\n",
       "    </tr>\n",
       "    <tr>\n",
       "      <th>4997</th>\n",
       "      <td>5</td>\n",
       "      <td>encantar diadema flor venir imagen no venir ap...</td>\n",
       "      <td>positive</td>\n",
       "      <td>0</td>\n",
       "      <td>1</td>\n",
       "    </tr>\n",
       "    <tr>\n",
       "      <th>4998</th>\n",
       "      <td>5</td>\n",
       "      <td>gustar mucho fundir tpu fundir normalmente fin...</td>\n",
       "      <td>positive</td>\n",
       "      <td>0</td>\n",
       "      <td>1</td>\n",
       "    </tr>\n",
       "    <tr>\n",
       "      <th>4999</th>\n",
       "      <td>5</td>\n",
       "      <td>artículo cumplir expectativa desear bueno calidad</td>\n",
       "      <td>positive</td>\n",
       "      <td>0</td>\n",
       "      <td>1</td>\n",
       "    </tr>\n",
       "  </tbody>\n",
       "</table>\n",
       "<p>5000 rows × 5 columns</p>\n",
       "</div>"
      ],
      "text/plain": [
       "      stars                                  review_body_title sentiment  \\\n",
       "0         1  malisimo muy grande demasiar aparatoso mal pro...  negative   \n",
       "1         1          no recibir pedir no devolución no recibir  negative   \n",
       "2         1  buscar sistema no funcionar muy bien abrazader...  negative   \n",
       "3         1  utilizar broca menor diámetro doblar si ser ma...  negative   \n",
       "4         1        no gustar olor viejo aspecto malo no gustar  negative   \n",
       "...     ...                                                ...       ...   \n",
       "4995      5  encantar cesta llegar tamaño muy util no pesar...  positive   \n",
       "4996      5   desempeñar función correctamente calidad preciar  positive   \n",
       "4997      5  encantar diadema flor venir imagen no venir ap...  positive   \n",
       "4998      5  gustar mucho fundir tpu fundir normalmente fin...  positive   \n",
       "4999      5  artículo cumplir expectativa desear bueno calidad  positive   \n",
       "\n",
       "      negative  positive  \n",
       "0            1         0  \n",
       "1            1         0  \n",
       "2            1         0  \n",
       "3            1         0  \n",
       "4            1         0  \n",
       "...        ...       ...  \n",
       "4995         0         1  \n",
       "4996         0         1  \n",
       "4997         0         1  \n",
       "4998         0         1  \n",
       "4999         0         1  \n",
       "\n",
       "[5000 rows x 5 columns]"
      ]
     },
     "execution_count": 27,
     "metadata": {},
     "output_type": "execute_result"
    }
   ],
   "source": [
    "one_hot_dev = pd.get_dummies(df_dev_comb['sentiment'])\n",
    "df_dev_comb = df_dev_comb.join(one_hot_dev)\n",
    "df_dev_comb"
   ]
  },
  {
   "cell_type": "code",
   "execution_count": 28,
   "metadata": {
    "ExecuteTime": {
     "end_time": "2020-11-07T19:25:32.875211Z",
     "start_time": "2020-11-07T19:25:32.863642Z"
    }
   },
   "outputs": [
    {
     "data": {
      "text/html": [
       "<div>\n",
       "<style scoped>\n",
       "    .dataframe tbody tr th:only-of-type {\n",
       "        vertical-align: middle;\n",
       "    }\n",
       "\n",
       "    .dataframe tbody tr th {\n",
       "        vertical-align: top;\n",
       "    }\n",
       "\n",
       "    .dataframe thead th {\n",
       "        text-align: right;\n",
       "    }\n",
       "</style>\n",
       "<table border=\"1\" class=\"dataframe\">\n",
       "  <thead>\n",
       "    <tr style=\"text-align: right;\">\n",
       "      <th></th>\n",
       "      <th>stars</th>\n",
       "      <th>review_body_title</th>\n",
       "      <th>sentiment</th>\n",
       "      <th>negative</th>\n",
       "      <th>positive</th>\n",
       "    </tr>\n",
       "  </thead>\n",
       "  <tbody>\n",
       "    <tr>\n",
       "      <th>0</th>\n",
       "      <td>1</td>\n",
       "      <td>no llegar articular mandar correo normal segui...</td>\n",
       "      <td>negative</td>\n",
       "      <td>1</td>\n",
       "      <td>0</td>\n",
       "    </tr>\n",
       "    <tr>\n",
       "      <th>1</th>\n",
       "      <td>1</td>\n",
       "      <td>mensajería horrible no comprar mas amazon cump...</td>\n",
       "      <td>negative</td>\n",
       "      <td>1</td>\n",
       "      <td>0</td>\n",
       "    </tr>\n",
       "    <tr>\n",
       "      <th>2</th>\n",
       "      <td>1</td>\n",
       "      <td>muy decepcionar vendedor pedir no no cumplir p...</td>\n",
       "      <td>negative</td>\n",
       "      <td>1</td>\n",
       "      <td>0</td>\n",
       "    </tr>\n",
       "    <tr>\n",
       "      <th>3</th>\n",
       "      <td>1</td>\n",
       "      <td>valoración no producto amazon ofrecer producto...</td>\n",
       "      <td>negative</td>\n",
       "      <td>1</td>\n",
       "      <td>0</td>\n",
       "    </tr>\n",
       "    <tr>\n",
       "      <th>4</th>\n",
       "      <td>1</td>\n",
       "      <td>interés librar probar versión kindle abrir por...</td>\n",
       "      <td>negative</td>\n",
       "      <td>1</td>\n",
       "      <td>0</td>\n",
       "    </tr>\n",
       "    <tr>\n",
       "      <th>...</th>\n",
       "      <td>...</td>\n",
       "      <td>...</td>\n",
       "      <td>...</td>\n",
       "      <td>...</td>\n",
       "      <td>...</td>\n",
       "    </tr>\n",
       "    <tr>\n",
       "      <th>4995</th>\n",
       "      <td>5</td>\n",
       "      <td>costar perfecto cumplir función sobrar pecar c...</td>\n",
       "      <td>positive</td>\n",
       "      <td>0</td>\n",
       "      <td>1</td>\n",
       "    </tr>\n",
       "    <tr>\n",
       "      <th>4996</th>\n",
       "      <td>5</td>\n",
       "      <td>material muy flexible cómodo acorde descripció...</td>\n",
       "      <td>positive</td>\n",
       "      <td>0</td>\n",
       "      <td>1</td>\n",
       "    </tr>\n",
       "    <tr>\n",
       "      <th>4997</th>\n",
       "      <td>5</td>\n",
       "      <td>ver bien grabar medalla bonito grabar</td>\n",
       "      <td>positive</td>\n",
       "      <td>0</td>\n",
       "      <td>1</td>\n",
       "    </tr>\n",
       "    <tr>\n",
       "      <th>4998</th>\n",
       "      <td>5</td>\n",
       "      <td>comprar bici finalmente quedar xiaomi scooter ...</td>\n",
       "      <td>positive</td>\n",
       "      <td>0</td>\n",
       "      <td>1</td>\n",
       "    </tr>\n",
       "    <tr>\n",
       "      <th>4999</th>\n",
       "      <td>5</td>\n",
       "      <td>tipo casco si inalambricos no atar goma tipica...</td>\n",
       "      <td>positive</td>\n",
       "      <td>0</td>\n",
       "      <td>1</td>\n",
       "    </tr>\n",
       "  </tbody>\n",
       "</table>\n",
       "<p>5000 rows × 5 columns</p>\n",
       "</div>"
      ],
      "text/plain": [
       "      stars                                  review_body_title sentiment  \\\n",
       "0         1  no llegar articular mandar correo normal segui...  negative   \n",
       "1         1  mensajería horrible no comprar mas amazon cump...  negative   \n",
       "2         1  muy decepcionar vendedor pedir no no cumplir p...  negative   \n",
       "3         1  valoración no producto amazon ofrecer producto...  negative   \n",
       "4         1  interés librar probar versión kindle abrir por...  negative   \n",
       "...     ...                                                ...       ...   \n",
       "4995      5  costar perfecto cumplir función sobrar pecar c...  positive   \n",
       "4996      5  material muy flexible cómodo acorde descripció...  positive   \n",
       "4997      5              ver bien grabar medalla bonito grabar  positive   \n",
       "4998      5  comprar bici finalmente quedar xiaomi scooter ...  positive   \n",
       "4999      5  tipo casco si inalambricos no atar goma tipica...  positive   \n",
       "\n",
       "      negative  positive  \n",
       "0            1         0  \n",
       "1            1         0  \n",
       "2            1         0  \n",
       "3            1         0  \n",
       "4            1         0  \n",
       "...        ...       ...  \n",
       "4995         0         1  \n",
       "4996         0         1  \n",
       "4997         0         1  \n",
       "4998         0         1  \n",
       "4999         0         1  \n",
       "\n",
       "[5000 rows x 5 columns]"
      ]
     },
     "execution_count": 28,
     "metadata": {},
     "output_type": "execute_result"
    }
   ],
   "source": [
    "one_hot_test = pd.get_dummies(df_test_comb['sentiment'])\n",
    "df_test_comb = df_test_comb.join(one_hot_test)\n",
    "df_test_comb"
   ]
  },
  {
   "cell_type": "markdown",
   "metadata": {},
   "source": [
    "Para comenzar, definimos nuestros conjuntos de entrenamiento y prueba."
   ]
  },
  {
   "cell_type": "code",
   "execution_count": 29,
   "metadata": {
    "ExecuteTime": {
     "end_time": "2020-11-07T19:25:40.834051Z",
     "start_time": "2020-11-07T19:25:32.876796Z"
    }
   },
   "outputs": [],
   "source": [
    "list_review_body_title_train = list(df_train_comb['review_body_title'].values)\n",
    "list_review_body_title_dev = list(df_dev_comb['review_body_title'].values)\n",
    "\n",
    "vectorizer = TfidfVectorizer(ngram_range = (1, 2), max_features = 5000)\n",
    "vect_review_body_title_train = vectorizer.fit_transform(list_review_body_title_train)\n",
    "X_train = vect_review_body_title_train.toarray()\n",
    "y_train = df_train_comb.iloc[:, 4]\n",
    "\n",
    "vect_review_body_title_dev = vectorizer.transform(list_review_body_title_dev)\n",
    "X_test = vect_review_body_title_dev.toarray()\n",
    "y_test = df_dev_comb.iloc[:, 4]"
   ]
  },
  {
   "cell_type": "markdown",
   "metadata": {},
   "source": [
    "Creamos una semilla, para tener consistencia de resultados si la red se corre nuevamente."
   ]
  },
  {
   "cell_type": "code",
   "execution_count": 30,
   "metadata": {
    "ExecuteTime": {
     "end_time": "2020-11-07T19:25:40.897438Z",
     "start_time": "2020-11-07T19:25:40.835536Z"
    }
   },
   "outputs": [],
   "source": [
    "the_seed = 42\n",
    "\n",
    "seed(the_seed)\n",
    "tf.random.set_random_seed(the_seed)"
   ]
  },
  {
   "cell_type": "markdown",
   "metadata": {},
   "source": [
    "A continuación, escalamos nuestros datos (de la bibliografía consultada, se desprende que para problemas de clasificación no es imperiso; sin embargo, siempre es una buen práctica)."
   ]
  },
  {
   "cell_type": "code",
   "execution_count": 31,
   "metadata": {
    "ExecuteTime": {
     "end_time": "2020-11-07T19:25:57.637734Z",
     "start_time": "2020-11-07T19:25:40.898750Z"
    }
   },
   "outputs": [],
   "source": [
    "scaler = MinMaxScaler().fit(X_train)\n",
    "\n",
    "X_train_scaled = scaler.transform(X_train)\n",
    "X_test_scaled = scaler.transform(X_test)"
   ]
  },
  {
   "cell_type": "markdown",
   "metadata": {},
   "source": [
    "Definimos el `input_dim`, instanciamos el modelo y definimos sus capas."
   ]
  },
  {
   "cell_type": "markdown",
   "metadata": {},
   "source": [
    "**Nota:** Se probaron diferentes redes, jugando principalmente con:\n",
    "\n",
    "- El número de capas .\n",
    "- El número de nodos en las capas ocultas (de la bibliografía electrónica consultada se desprende que una buena distribución de los nodos es tomar en la capa oculta correspondiente la mitad de los de la capa inmediata anterior).\n",
    "- Las regularizaciones (entre ellas, `dropout`).\n",
    "- El optimizador (se probaron `adam` y `sgd`).\n",
    "- Los hiperparámetros `learning_rate`, `epochs` y `batch_size`.\n",
    "- Además, se probaron las redes con y sin <b>*EarlyStopping*</b> y <b>*MonitorCheckpoint*</b>. De estos últimos, se jugó con los hiperparámetros `pacience` y `monitor` (se probó con `val_accuracy` y con `val_loss`).\n",
    "\n",
    "Para fines de reporte y practicidad (hubo redes que tardaron más de 22 horas en entrenarse), se deja únicamente la red que de entre todas las anteriores se desempeñó mejor en este conjunto *dev*."
   ]
  },
  {
   "cell_type": "code",
   "execution_count": 32,
   "metadata": {
    "ExecuteTime": {
     "end_time": "2020-11-07T19:25:58.167528Z",
     "start_time": "2020-11-07T19:25:57.652556Z"
    }
   },
   "outputs": [],
   "source": [
    "input_dim = X_train.shape[1]\n",
    "\n",
    "model = Sequential()\n",
    "\n",
    "model.add(layers.Dense(5000, input_dim = input_dim, kernel_regularizer = l2(0.001),\n",
    "                       activation = 'relu'))\n",
    "model.add(layers.Dense(2500, kernel_regularizer = l2(0.001), activation = 'relu'))\n",
    "model.add(layers.Dense(1250, kernel_regularizer = l2(0.001), activation = 'relu'))\n",
    "model.add(layers.Dense(625, kernel_regularizer = l2(0.001), activation = 'relu'))\n",
    "model.add(layers.Dense(312, kernel_regularizer = l2(0.001), activation = 'relu'))\n",
    "model.add(layers.Dense(156, kernel_regularizer = l2(0.001), activation = 'relu'))\n",
    "model.add(layers.Dense(78, kernel_regularizer = l2(0.001), activation = 'relu'))\n",
    "model.add(layers.Dense(39, kernel_regularizer = l2(0.001), activation = 'relu'))\n",
    "model.add(layers.Dense(20, kernel_regularizer = l2(0.001), activation = 'relu'))\n",
    "model.add(layers.Dense(10, kernel_regularizer = l2(0.001), activation = 'relu'))\n",
    "model.add(layers.Dense(5, kernel_regularizer = l2(0.001), activation = 'relu'))\n",
    "model.add(layers.Dense(2, kernel_regularizer = l2(0.001), activation = 'relu'))\n",
    "model.add(layers.Dense(1, activation = 'sigmoid'))"
   ]
  },
  {
   "cell_type": "markdown",
   "metadata": {},
   "source": [
    "Definimos ahora el optimizador que usaremos así como algunos hiperparámetros."
   ]
  },
  {
   "cell_type": "code",
   "execution_count": 33,
   "metadata": {
    "ExecuteTime": {
     "end_time": "2020-11-07T19:25:58.261280Z",
     "start_time": "2020-11-07T19:25:58.170953Z"
    }
   },
   "outputs": [
    {
     "name": "stdout",
     "output_type": "stream",
     "text": [
      "WARNING:tensorflow:From /opt/anaconda3/envs/temp_data_science/lib/python3.7/site-packages/tensorflow/python/ops/nn_impl.py:180: add_dispatch_support.<locals>.wrapper (from tensorflow.python.ops.array_ops) is deprecated and will be removed in a future version.\n",
      "Instructions for updating:\n",
      "Use tf.where in 2.0, which has the same broadcast rule as np.where\n",
      "Model: \"sequential_1\"\n",
      "_________________________________________________________________\n",
      "Layer (type)                 Output Shape              Param #   \n",
      "=================================================================\n",
      "dense_1 (Dense)              (None, 5000)              25005000  \n",
      "_________________________________________________________________\n",
      "dense_2 (Dense)              (None, 2500)              12502500  \n",
      "_________________________________________________________________\n",
      "dense_3 (Dense)              (None, 1250)              3126250   \n",
      "_________________________________________________________________\n",
      "dense_4 (Dense)              (None, 625)               781875    \n",
      "_________________________________________________________________\n",
      "dense_5 (Dense)              (None, 312)               195312    \n",
      "_________________________________________________________________\n",
      "dense_6 (Dense)              (None, 156)               48828     \n",
      "_________________________________________________________________\n",
      "dense_7 (Dense)              (None, 78)                12246     \n",
      "_________________________________________________________________\n",
      "dense_8 (Dense)              (None, 39)                3081      \n",
      "_________________________________________________________________\n",
      "dense_9 (Dense)              (None, 20)                800       \n",
      "_________________________________________________________________\n",
      "dense_10 (Dense)             (None, 10)                210       \n",
      "_________________________________________________________________\n",
      "dense_11 (Dense)             (None, 5)                 55        \n",
      "_________________________________________________________________\n",
      "dense_12 (Dense)             (None, 2)                 12        \n",
      "_________________________________________________________________\n",
      "dense_13 (Dense)             (None, 1)                 3         \n",
      "=================================================================\n",
      "Total params: 41,676,172\n",
      "Trainable params: 41,676,172\n",
      "Non-trainable params: 0\n",
      "_________________________________________________________________\n"
     ]
    }
   ],
   "source": [
    "optimizer = keras.optimizers.SGD(lr = 0.005)\n",
    "\n",
    "model.compile(loss = 'binary_crossentropy',\n",
    "              optimizer = optimizer,\n",
    "              metrics = ['accuracy'])\n",
    "model.summary()"
   ]
  },
  {
   "cell_type": "code",
   "execution_count": 34,
   "metadata": {
    "ExecuteTime": {
     "end_time": "2020-11-08T00:40:16.842044Z",
     "start_time": "2020-11-07T19:25:58.262733Z"
    }
   },
   "outputs": [
    {
     "name": "stdout",
     "output_type": "stream",
     "text": [
      "WARNING:tensorflow:From /opt/anaconda3/envs/temp_data_science/lib/python3.7/site-packages/keras/backend/tensorflow_backend.py:422: The name tf.global_variables is deprecated. Please use tf.compat.v1.global_variables instead.\n",
      "\n"
     ]
    }
   ],
   "source": [
    "my_callbacks = [\n",
    "EarlyStopping(patience = 10, monitor = 'val_accuracy'),\n",
    "ModelCheckpoint('best_model.h5', monitor = 'val_accuracy', save_best_only = True)\n",
    "]\n",
    "\n",
    "history_dev = model.fit(X_train_scaled, y_train, epochs = 100, verbose = False,\n",
    "                    validation_data = (X_test_scaled, y_test), callbacks = my_callbacks, batch_size = 64).history"
   ]
  },
  {
   "cell_type": "markdown",
   "metadata": {},
   "source": [
    "Instanciamos al mejor modelo encontrado e imprimimos los *accuracys* en *train* y *test* así como la pérdida en cada uno."
   ]
  },
  {
   "cell_type": "code",
   "execution_count": 35,
   "metadata": {
    "ExecuteTime": {
     "end_time": "2020-11-08T00:43:58.919145Z",
     "start_time": "2020-11-08T00:40:16.846204Z"
    }
   },
   "outputs": [
    {
     "name": "stdout",
     "output_type": "stream",
     "text": [
      "Trainning loss: 5.136222505569458\n",
      "Trainning accuracy: 0.9051849842071533 \n",
      "\n",
      "Testing loss: 5.1939705528259275\n",
      "Testing accuracy: 0.878600001335144\n"
     ]
    }
   ],
   "source": [
    "best_model = load_model('best_model.h5')\n",
    "\n",
    "train_acc = best_model.evaluate(X_train_scaled, y_train, verbose = 0)\n",
    "print('Trainning loss:', train_acc[0])\n",
    "print('Trainning accuracy:', train_acc[1], '\\n')\n",
    "\n",
    "test_acc = best_model.evaluate(X_test_scaled, y_test, verbose = 0)\n",
    "print('Testing loss:', test_acc[0])\n",
    "print('Testing accuracy:', test_acc[1])"
   ]
  },
  {
   "cell_type": "markdown",
   "metadata": {},
   "source": [
    "Ahora, graficamos tanto la función de pérdida como el *accuracy* durante los diferentes valores de `epochs`."
   ]
  },
  {
   "cell_type": "code",
   "execution_count": 36,
   "metadata": {
    "ExecuteTime": {
     "end_time": "2020-11-08T00:43:59.524469Z",
     "start_time": "2020-11-08T00:43:58.921003Z"
    },
    "scrolled": true
   },
   "outputs": [
    {
     "data": {
      "image/png": "[encoded data removed]",
      "text/plain": [
       "<Figure size 720x360 with 2 Axes>"
      ]
     },
     "metadata": {},
     "output_type": "display_data"
    }
   ],
   "source": [
    "plot_history(history_dev)"
   ]
  },
  {
   "cell_type": "markdown",
   "metadata": {},
   "source": [
    "Definimos ahora a `y_test`y a `y_pred_test`."
   ]
  },
  {
   "cell_type": "code",
   "execution_count": 37,
   "metadata": {
    "ExecuteTime": {
     "end_time": "2020-11-08T00:44:01.622413Z",
     "start_time": "2020-11-08T00:43:59.526251Z"
    }
   },
   "outputs": [],
   "source": [
    "y_test = df_dev_comb.iloc[:, 4]\n",
    "y_pred_test = best_model.predict_classes(X_test_scaled)"
   ]
  },
  {
   "cell_type": "markdown",
   "metadata": {},
   "source": [
    "Ahora, definimos la siguiente función para graficar la matriz de confusión de la red y la usamos."
   ]
  },
  {
   "cell_type": "code",
   "execution_count": 38,
   "metadata": {
    "ExecuteTime": {
     "end_time": "2020-11-08T00:44:01.630327Z",
     "start_time": "2020-11-08T00:44:01.624643Z"
    }
   },
   "outputs": [],
   "source": [
    "def confusion_net(ytest, y_pred):\n",
    "    names = ['Negativo', 'Positivo']\n",
    "    cm = confusion_matrix(ytest, y_pred)\n",
    "    f, ax = plt.subplots(figsize = (5, 5))\n",
    "    sns.heatmap(cm, annot = True, linewidth = .5, linecolor = \"r\", fmt = \".0f\", ax = ax)\n",
    "    plt.xlabel(\"y_pred\")\n",
    "    plt.ylabel(\"y_true\")\n",
    "    ax.set_xticklabels(names, rotation = 45)\n",
    "    ax.set_yticklabels(names, rotation = 45)\n",
    "    plt.show()\n",
    "\n",
    "    return"
   ]
  },
  {
   "cell_type": "code",
   "execution_count": 39,
   "metadata": {
    "ExecuteTime": {
     "end_time": "2020-11-08T00:44:01.786276Z",
     "start_time": "2020-11-08T00:44:01.632197Z"
    }
   },
   "outputs": [
    {
     "data": {
      "image/png": "[encoded data removed]",
      "text/plain": [
       "<Figure size 360x360 with 2 Axes>"
      ]
     },
     "metadata": {},
     "output_type": "display_data"
    }
   ],
   "source": [
    "confusion_net(y_test, y_pred_test)"
   ]
  },
  {
   "cell_type": "markdown",
   "metadata": {},
   "source": [
    "## - Conclusiones"
   ]
  },
  {
   "cell_type": "markdown",
   "metadata": {},
   "source": [
    "El *accuracy* general de esta red en el conjunto *dev* es muy bueno; de hecho, aunque hasta las milésimas, mejor que el del modelo *benchmark*. Además, el balance del *accuracy* por etiqueta mejora sensiblemente respecto a este último: 85.7% para la etiqueta <b>*positive*</b> y 89.3% para <b>*negative*</b>."
   ]
  },
  {
   "cell_type": "markdown",
   "metadata": {},
   "source": [
    "A continuación, ya que tenemos nuestra red optimizada, veamos cómo predice en el *dataset test*.\n",
    "\n",
    "Nuevamente, definimos nuestros conjuntos de entrenamiento y prueba."
   ]
  },
  {
   "cell_type": "code",
   "execution_count": 40,
   "metadata": {
    "ExecuteTime": {
     "end_time": "2020-11-08T00:44:11.219612Z",
     "start_time": "2020-11-08T00:44:01.788462Z"
    }
   },
   "outputs": [],
   "source": [
    "list_review_body_title_train = list(df_train_comb['review_body_title'].values)\n",
    "list_review_body_title_test = list(df_test_comb['review_body_title'].values)\n",
    "\n",
    "vectorizer = TfidfVectorizer(ngram_range = (1, 2), max_features = 5000)\n",
    "vect_review_body_title_train = vectorizer.fit_transform(list_review_body_title_train)\n",
    "X_train = vect_review_body_title_train.toarray()\n",
    "y_train = df_train_comb.iloc[:, 4]\n",
    "\n",
    "vect_review_body_title_test = vectorizer.transform(list_review_body_title_test)\n",
    "X_test = vect_review_body_title_test.toarray()\n",
    "y_test = df_test_comb.iloc[:, 4]"
   ]
  },
  {
   "cell_type": "markdown",
   "metadata": {},
   "source": [
    "Creamos una semilla, para tener consistencia de resultados si la red se corre nuevamente."
   ]
  },
  {
   "cell_type": "code",
   "execution_count": 41,
   "metadata": {
    "ExecuteTime": {
     "end_time": "2020-11-08T00:44:11.224482Z",
     "start_time": "2020-11-08T00:44:11.221614Z"
    }
   },
   "outputs": [],
   "source": [
    "the_seed = 42\n",
    "\n",
    "seed(the_seed)\n",
    "tf.random.set_random_seed(the_seed)"
   ]
  },
  {
   "cell_type": "markdown",
   "metadata": {},
   "source": [
    "A continuación, escalamos nuestros datos."
   ]
  },
  {
   "cell_type": "code",
   "execution_count": 42,
   "metadata": {
    "ExecuteTime": {
     "end_time": "2020-11-08T00:44:36.248438Z",
     "start_time": "2020-11-08T00:44:11.226158Z"
    }
   },
   "outputs": [],
   "source": [
    "scaler = MinMaxScaler().fit(X_train)\n",
    "\n",
    "X_train_scaled = scaler.transform(X_train)\n",
    "X_test_scaled = scaler.transform(X_test)"
   ]
  },
  {
   "cell_type": "markdown",
   "metadata": {},
   "source": [
    "Y ahora, definimos nuevamente nuestro modelo y lo entrenamos."
   ]
  },
  {
   "cell_type": "code",
   "execution_count": 43,
   "metadata": {
    "ExecuteTime": {
     "end_time": "2020-11-08T00:44:36.761303Z",
     "start_time": "2020-11-08T00:44:36.264476Z"
    }
   },
   "outputs": [],
   "source": [
    "input_dim = X_train.shape[1]\n",
    "\n",
    "model = Sequential()\n",
    "\n",
    "model.add(layers.Dense(5000, input_dim = input_dim, kernel_regularizer = l2(0.001),\n",
    "                       activation = 'relu'))\n",
    "model.add(layers.Dense(2500, kernel_regularizer = l2(0.001), activation = 'relu'))\n",
    "model.add(layers.Dense(1250, kernel_regularizer = l2(0.001), activation = 'relu'))\n",
    "model.add(layers.Dense(625, kernel_regularizer = l2(0.001), activation = 'relu'))\n",
    "model.add(layers.Dense(312, kernel_regularizer = l2(0.001), activation = 'relu'))\n",
    "model.add(layers.Dense(156, kernel_regularizer = l2(0.001), activation = 'relu'))\n",
    "model.add(layers.Dense(78, kernel_regularizer = l2(0.001), activation = 'relu'))\n",
    "model.add(layers.Dense(39, kernel_regularizer = l2(0.001), activation = 'relu'))\n",
    "model.add(layers.Dense(20, kernel_regularizer = l2(0.001), activation = 'relu'))\n",
    "model.add(layers.Dense(10, kernel_regularizer = l2(0.001), activation = 'relu'))\n",
    "model.add(layers.Dense(5, kernel_regularizer = l2(0.001), activation = 'relu'))\n",
    "model.add(layers.Dense(2, kernel_regularizer = l2(0.001), activation = 'relu'))\n",
    "model.add(layers.Dense(1, activation = 'sigmoid'))"
   ]
  },
  {
   "cell_type": "code",
   "execution_count": 44,
   "metadata": {
    "ExecuteTime": {
     "end_time": "2020-11-08T00:44:36.869226Z",
     "start_time": "2020-11-08T00:44:36.764488Z"
    }
   },
   "outputs": [
    {
     "name": "stdout",
     "output_type": "stream",
     "text": [
      "Model: \"sequential_2\"\n",
      "_________________________________________________________________\n",
      "Layer (type)                 Output Shape              Param #   \n",
      "=================================================================\n",
      "dense_14 (Dense)             (None, 5000)              25005000  \n",
      "_________________________________________________________________\n",
      "dense_15 (Dense)             (None, 2500)              12502500  \n",
      "_________________________________________________________________\n",
      "dense_16 (Dense)             (None, 1250)              3126250   \n",
      "_________________________________________________________________\n",
      "dense_17 (Dense)             (None, 625)               781875    \n",
      "_________________________________________________________________\n",
      "dense_18 (Dense)             (None, 312)               195312    \n",
      "_________________________________________________________________\n",
      "dense_19 (Dense)             (None, 156)               48828     \n",
      "_________________________________________________________________\n",
      "dense_20 (Dense)             (None, 78)                12246     \n",
      "_________________________________________________________________\n",
      "dense_21 (Dense)             (None, 39)                3081      \n",
      "_________________________________________________________________\n",
      "dense_22 (Dense)             (None, 20)                800       \n",
      "_________________________________________________________________\n",
      "dense_23 (Dense)             (None, 10)                210       \n",
      "_________________________________________________________________\n",
      "dense_24 (Dense)             (None, 5)                 55        \n",
      "_________________________________________________________________\n",
      "dense_25 (Dense)             (None, 2)                 12        \n",
      "_________________________________________________________________\n",
      "dense_26 (Dense)             (None, 1)                 3         \n",
      "=================================================================\n",
      "Total params: 41,676,172\n",
      "Trainable params: 41,676,172\n",
      "Non-trainable params: 0\n",
      "_________________________________________________________________\n"
     ]
    }
   ],
   "source": [
    "optimizer = keras.optimizers.SGD(lr = 0.005)\n",
    "\n",
    "model.compile(loss = 'binary_crossentropy',\n",
    "              optimizer = optimizer,\n",
    "              metrics = ['accuracy'])\n",
    "model.summary()"
   ]
  },
  {
   "cell_type": "code",
   "execution_count": 45,
   "metadata": {
    "ExecuteTime": {
     "end_time": "2020-11-08T04:55:41.818978Z",
     "start_time": "2020-11-08T00:44:36.870756Z"
    }
   },
   "outputs": [],
   "source": [
    "my_callbacks = [\n",
    "EarlyStopping(patience = 10, monitor = 'val_accuracy'),\n",
    "ModelCheckpoint('best_model.h5', monitor = 'val_accuracy', save_best_only = True)\n",
    "]\n",
    "\n",
    "history_test = model.fit(X_train_scaled, y_train, epochs = 100, verbose = False,\n",
    "                    validation_data = (X_test_scaled, y_test), callbacks = my_callbacks, batch_size = 64).history"
   ]
  },
  {
   "cell_type": "markdown",
   "metadata": {},
   "source": [
    "Instanciamos al mejor modelo encontrado e imprimimos los *accuracys* en *train* y *test* así como la pérdida."
   ]
  },
  {
   "cell_type": "code",
   "execution_count": 46,
   "metadata": {
    "ExecuteTime": {
     "end_time": "2020-11-08T04:59:21.314451Z",
     "start_time": "2020-11-08T04:55:41.823087Z"
    }
   },
   "outputs": [
    {
     "name": "stdout",
     "output_type": "stream",
     "text": [
      "Trainning loss: 6.94115517112732\n",
      "Trainning accuracy: 0.8898900151252747 \n",
      "\n",
      "Testing loss: 6.968655892181396\n",
      "Testing accuracy: 0.8762000203132629\n"
     ]
    }
   ],
   "source": [
    "best_model = load_model('best_model.h5')\n",
    "\n",
    "train_acc = best_model.evaluate(X_train_scaled, y_train, verbose = 0)\n",
    "print('Trainning loss:', train_acc[0])\n",
    "print('Trainning accuracy:', train_acc[1], '\\n')\n",
    "\n",
    "test_acc = best_model.evaluate(X_test_scaled, y_test, verbose = 0)\n",
    "print('Testing loss:', test_acc[0])\n",
    "print('Testing accuracy:', test_acc[1])"
   ]
  },
  {
   "cell_type": "markdown",
   "metadata": {},
   "source": [
    "Ahora, graficamos tanto la función de pérdida como el *accuracy* durante los diferentes valores de `epochs`."
   ]
  },
  {
   "cell_type": "code",
   "execution_count": 47,
   "metadata": {
    "ExecuteTime": {
     "end_time": "2020-11-08T04:59:21.897370Z",
     "start_time": "2020-11-08T04:59:21.316328Z"
    }
   },
   "outputs": [
    {
     "data": {
      "image/png": "[encoded data removed]",
      "text/plain": [
       "<Figure size 720x360 with 2 Axes>"
      ]
     },
     "metadata": {},
     "output_type": "display_data"
    }
   ],
   "source": [
    "plot_history(history_test)"
   ]
  },
  {
   "cell_type": "markdown",
   "metadata": {},
   "source": [
    "Definimos ahora a `y_test`y a `y_pred_test`."
   ]
  },
  {
   "cell_type": "code",
   "execution_count": 48,
   "metadata": {
    "ExecuteTime": {
     "end_time": "2020-11-08T04:59:24.108272Z",
     "start_time": "2020-11-08T04:59:21.899118Z"
    }
   },
   "outputs": [],
   "source": [
    "y_test = df_test_comb.iloc[:, 4]\n",
    "y_pred_test = best_model.predict_classes(X_test_scaled)"
   ]
  },
  {
   "cell_type": "markdown",
   "metadata": {},
   "source": [
    "Y graficamos la matriz de confusión."
   ]
  },
  {
   "cell_type": "code",
   "execution_count": 49,
   "metadata": {
    "ExecuteTime": {
     "end_time": "2020-11-08T04:59:24.270295Z",
     "start_time": "2020-11-08T04:59:24.110478Z"
    }
   },
   "outputs": [
    {
     "data": {
      "image/png": "[encoded data removed]",
      "text/plain": [
       "<Figure size 360x360 with 2 Axes>"
      ]
     },
     "metadata": {},
     "output_type": "display_data"
    }
   ],
   "source": [
    "confusion_net(y_test, y_pred_test)"
   ]
  },
  {
   "cell_type": "markdown",
   "metadata": {},
   "source": [
    "## - Conclusiones"
   ]
  },
  {
   "cell_type": "markdown",
   "metadata": {},
   "source": [
    "Esta red en *test* tiene un *accuracy* prácticamente igual que en *dev*, el cual es muy bueno, y sigue siendo muy ligeramente superior al del modelo *becnhmark*.\n",
    "\n",
    "Ahora bien, respecto al balance del *accuracy* por etiqueta, la red logró un 83.7% para la etiqueta <b>*positive*</b> y un 90.2% para <b>*negative*</b> por lo que también se logra una ligera reducción de la brecha entre ambos *accuracys* respecto al modelo *benchmark*.\n",
    "\n",
    "Aun cuando el costo computacional de utilizar la red es superior al del *benchmark*, se considera que vale la pena tomando en cuenta las ganancias que se obtienen y que este costo no es mucho mayor al que representa el *benchmark*."
   ]
  },
  {
   "cell_type": "markdown",
   "metadata": {},
   "source": [
    "## - Bibliografía"
   ]
  },
  {
   "cell_type": "markdown",
   "metadata": {},
   "source": [
    "A continuación, se deja la bibliografía electrónica que se utilizó."
   ]
  },
  {
   "cell_type": "markdown",
   "metadata": {},
   "source": [
    "- https://towardsdatascience.com/binary-classification-of-imdb-movie-reviews-648342bc70dd\n",
    "- https://realpython.com/python-keras-text-classification/\n",
    "- https://keras.io/api/optimizers/adam/\n",
    "- https://keras.io/api/optimizers/sgd/\n",
    "- https://keras.io/api/callbacks/early_stopping/\n",
    "- https://keras.io/api/callbacks/\n",
    "- https://github.com/late347/cognitive-systems-health-applications/blob/master/NeuralNetworks_case1_v1.ipynb\n",
    "- https://machinelearningmastery.com/how-to-reduce-overfitting-in-deep-learning-with-weight-regularization\n",
    "- https://towardsdatascience.com/regularization-techniques-and-their-implementation-in-tensorflow-keras-c06e7551e709\n",
    "- https://machinelearningmastery.com/dropout-regularization-deep-learning-models-keras/\n",
    "- https://medium.com/fintechexplained/what-are-hidden-layers-4f54f7328263"
   ]
  }
 ],
 "metadata": {
  "kernelspec": {
   "display_name": "Python 3",
   "language": "python",
   "name": "python3"
  },
  "language_info": {
   "codemirror_mode": {
    "name": "ipython",
    "version": 3
   },
   "file_extension": ".py",
   "mimetype": "text/x-python",
   "name": "python",
   "nbconvert_exporter": "python",
   "pygments_lexer": "ipython3",
   "version": "3.7.7"
  }
 },
 "nbformat": 4,
 "nbformat_minor": 4
}
